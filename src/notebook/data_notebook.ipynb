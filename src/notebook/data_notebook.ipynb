{
 "cells": [
  {
   "cell_type": "code",
   "execution_count": 1,
   "metadata": {
    "scrolled": false
   },
   "outputs": [
    {
     "name": "stderr",
     "output_type": "stream",
     "text": [
      "C:\\Users\\Asus\\anaconda3\\envs\\RSSI\\lib\\site-packages\\tqdm\\auto.py:22: TqdmWarning: IProgress not found. Please update jupyter and ipywidgets. See https://ipywidgets.readthedocs.io/en/stable/user_install.html\n",
      "  from .autonotebook import tqdm as notebook_tqdm\n"
     ]
    }
   ],
   "source": [
    "import os\n",
    "import random\n",
    "from pathlib import Path\n",
    "import numpy as np\n",
    "import pandas as pd\n",
    "import sys \n",
    "\n",
    "#Note: Change path to your folder dir (This is mine)\n",
    "path_to_dir = \"C:/Users/Asus/Documents/IPS_PCA_CLUSTERING\"\n",
    "\n",
    "sys.path.insert(1, path_to_dir)\n",
    "\n",
    "\n",
    "import torch\n",
    "from sklearn.model_selection import train_test_split\n",
    "from sklearn.preprocessing import StandardScaler\n",
    "from sklearn.decomposition import PCA, KernelPCA\n",
    "\n",
    "# custom\n",
    "\n",
    "from src.utils.file_utils import read_data\n",
    "from src.utils.helper import normalize_data, separates_data_uts, constant_columns, detect_num_feature_rssi, save_data_npz, load_data_npz, separates_data_uji, separates_data_tampere"
   ]
  },
  {
   "cell_type": "code",
   "execution_count": 2,
   "metadata": {},
   "outputs": [],
   "source": [
    "# setup random seed\n",
    "def set_seed_everything(seed: int):\n",
    "    random.seed(seed)\n",
    "    os.environ['PYTHONHASHSEED'] = str(seed)\n",
    "    np.random.seed(seed)\n",
    "    torch.manual_seed(seed)\n",
    "    torch.cuda.manual_seed(seed)\n",
    "\n",
    "SEED = 2023\n",
    "set_seed_everything(SEED)"
   ]
  },
  {
   "cell_type": "markdown",
   "metadata": {},
   "source": [
    "## TAMPERE"
   ]
  },
  {
   "cell_type": "markdown",
   "metadata": {},
   "source": [
    "### Data Path Tampere"
   ]
  },
  {
   "cell_type": "code",
   "execution_count": 3,
   "metadata": {},
   "outputs": [],
   "source": [
    "raw_rssi_train_dir = \"../../data/tampere_data/raw/Training_rss.csv\"\n",
    "raw_label_train_dir = \"../../data/tampere_data/raw/Training_coordinates.csv\"\n",
    "\n",
    "raw_rssi_test_dir = \"../../data/tampere_data/raw/Test_rss.csv\"\n",
    "raw_label_test_dir = \"../../data/tampere_data/raw/Test_coordinates.csv\"\n",
    "\n",
    "\n",
    "process_train_dir = \"../../data/tampere_data/processed/TUT_train.csv\"\n",
    "process_test_dir = \"../../data/tampere_data/processed/TUT_test.csv\"\n",
    "\n",
    "data_path_save = f\"../../data/tampere_data/pca/kernal_pca_cosine_75\" \n",
    "# data_path_save = f\"../../data/tampere_data/pca/pca_085\"\n",
    "Path(data_path_save).mkdir(parents=True, exist_ok=True)"
   ]
  },
  {
   "cell_type": "code",
   "execution_count": 4,
   "metadata": {},
   "outputs": [
    {
     "name": "stdout",
     "output_type": "stream",
     "text": [
      "['WAP003', 'WAP005', 'WAP097', 'WAP120', 'WAP121', 'WAP122', 'WAP123', 'WAP124', 'WAP126', 'WAP135', 'WAP138', 'WAP151', 'WAP152', 'WAP154', 'WAP157', 'WAP159', 'WAP164', 'WAP166', 'WAP167', 'WAP168', 'WAP169', 'WAP173', 'WAP174', 'WAP175', 'WAP177', 'WAP179', 'WAP180', 'WAP181', 'WAP182', 'WAP183', 'WAP184', 'WAP188', 'WAP190', 'WAP191', 'WAP192', 'WAP209', 'WAP210', 'WAP211', 'WAP212', 'WAP214', 'WAP272', 'WAP273', 'WAP274', 'WAP275', 'WAP276', 'WAP310', 'WAP312', 'WAP313', 'WAP315', 'WAP317', 'WAP318', 'WAP319', 'WAP320', 'WAP321', 'WAP322', 'WAP336', 'WAP338', 'WAP348', 'WAP349', 'WAP350', 'WAP351', 'WAP352', 'WAP353', 'WAP354', 'WAP355', 'WAP357', 'WAP367', 'WAP371', 'WAP372', 'WAP373', 'WAP374', 'WAP375', 'WAP378', 'WAP379', 'WAP385', 'WAP388', 'WAP392', 'WAP393', 'WAP499', 'WAP501', 'WAP502', 'WAP506', 'WAP507', 'WAP508', 'WAP509', 'WAP510', 'WAP512', 'WAP514', 'WAP516', 'WAP520', 'WAP524', 'WAP525', 'WAP526', 'WAP532', 'WAP536', 'WAP539', 'WAP540', 'WAP541', 'WAP543', 'WAP544', 'WAP545', 'WAP547', 'WAP548', 'WAP553', 'WAP554', 'WAP555', 'WAP558', 'WAP563', 'WAP565', 'WAP570', 'WAP572', 'WAP573', 'WAP574', 'WAP576', 'WAP577', 'WAP585', 'WAP586', 'WAP587', 'WAP591', 'WAP592', 'WAP597', 'WAP599', 'WAP600', 'WAP609', 'WAP610', 'WAP611', 'WAP612', 'WAP613', 'WAP614', 'WAP616', 'WAP618', 'WAP620', 'WAP623', 'WAP625', 'WAP626', 'WAP627', 'WAP629', 'WAP632', 'WAP633', 'WAP638', 'WAP639', 'WAP642', 'WAP646', 'WAP647', 'WAP649', 'WAP655', 'WAP657', 'WAP658', 'WAP660', 'WAP663', 'WAP665', 'WAP666', 'WAP668', 'WAP671', 'WAP673', 'WAP674', 'WAP676', 'WAP687', 'WAP689', 'WAP690', 'WAP692', 'WAP701', 'WAP703', 'WAP704', 'WAP706', 'WAP712', 'WAP715', 'WAP716', 'WAP717', 'WAP725', 'WAP726', 'WAP728', 'WAP737', 'WAP741', 'WAP744', 'WAP745', 'WAP766', 'WAP767', 'WAP770', 'WAP771', 'WAP772', 'WAP774', 'WAP775', 'WAP790', 'WAP791', 'WAP792', 'WAP802', 'WAP803', 'WAP820', 'WAP821', 'WAP825', 'WAP826', 'WAP827', 'WAP828', 'WAP847', 'WAP849', 'WAP851', 'WAP852', 'WAP853', 'WAP857', 'WAP860', 'WAP861', 'WAP864', 'WAP867', 'WAP873', 'WAP876', 'WAP879', 'WAP880', 'WAP982', 'WAP984', 'WAP985', 'WAP987', 'WAP990']\n"
     ]
    }
   ],
   "source": [
    "rssi_train_data = pd.read_csv(raw_rssi_train_dir, header=None)\n",
    "label_train_data = pd.read_csv(raw_label_train_dir, header=None)\n",
    "rssi_test_data = pd.read_csv(raw_rssi_test_dir, header=None)\n",
    "label_test_data = pd.read_csv(raw_label_test_dir, header=None)\n",
    "\n",
    "rssi_header_dict = {idx:\"WAP{:03d}\".format(idx + 1) for idx in rssi_train_data.columns}\n",
    "label_header_dict = {0: 'Pos_x', 1: 'Pos_y', 2:'Floor_ID'}\n",
    "\n",
    "rssi_train_data = rssi_train_data.rename(columns=rssi_header_dict)\n",
    "label_train_data = label_train_data.rename(columns=label_header_dict)\n",
    "rssi_test_data = rssi_test_data.rename(columns=rssi_header_dict)\n",
    "label_test_data = label_test_data.rename(columns=label_header_dict)\n",
    "\n",
    "train_data = pd.concat([rssi_train_data, label_train_data], axis=1)\n",
    "test_data = pd.concat([rssi_test_data, label_test_data], axis=1)\n",
    "\n",
    "replace_floor_id = {0.0: 0, 3.7:1, 7.4:2, 11.1:3, 14.8:4}\n",
    "train_data.replace({\"Floor_ID\": replace_floor_id}, inplace=True)\n",
    "test_data.replace({\"Floor_ID\": replace_floor_id}, inplace=True)\n",
    "\n",
    "NUM_FEATURES_RSSI = detect_num_feature_rssi(train_data)\n",
    "const_cols = constant_columns(train_data, threshold=2, column_range=NUM_FEATURES_RSSI)\n",
    "\n",
    "print(const_cols)\n",
    "\n",
    "# constant columns\n",
    "\n",
    "\n",
    "# normalize data\n",
    "train_data = normalize_data(train_data, num_feature=NUM_FEATURES_RSSI, removed_columns=None, constant_columns=const_cols)\n",
    "test_data = normalize_data(test_data, num_feature=NUM_FEATURES_RSSI, removed_columns=None, constant_columns=const_cols)\n",
    "\n",
    "# save data processs\n",
    "train_data.to_csv(process_train_dir, index=False)\n",
    "test_data.to_csv(process_test_dir, index=False)\n",
    "\n",
    "train_data = read_data(process_train_dir)\n",
    "test_data = read_data(process_test_dir)"
   ]
  },
  {
   "cell_type": "code",
   "execution_count": null,
   "metadata": {},
   "outputs": [],
   "source": []
  },
  {
   "cell_type": "code",
   "execution_count": null,
   "metadata": {},
   "outputs": [],
   "source": []
  },
  {
   "cell_type": "code",
   "execution_count": 5,
   "metadata": {},
   "outputs": [],
   "source": [
    "# seperate data\n",
    "X_train_, Y_train = separates_data_tampere(train_data)\n",
    "X_test_, Y_test = separates_data_tampere(test_data)\n",
    "\n",
    "scX = StandardScaler()\n",
    "pca = KernelPCA(n_components=75, kernel=\"cosine\")\n",
    "# pca = PCA(n_components=0.85)\n",
    "X_train_ = scX.fit_transform(X_train_)\n",
    "X_test_ = scX.transform(X_test_)\n",
    "X_train = pca.fit_transform(X_train_)\n",
    "X_test = pca.transform(X_test_)\n",
    "\n",
    "# X_train, X_valid, Y_train, Y_valid = train_test_split(X_train, Y_train, test_size=0.04, random_state=SEED)\n",
    "X_train, X_valid, Y_train, Y_valid = train_test_split(X_train, Y_train, test_size=0.1, random_state=SEED)\n",
    "\n",
    "# save data npz\n",
    "save_data_npz([\n",
    "    (os.path.join(data_path_save, \"X_train.npz\"), X_train),\n",
    "    (os.path.join(data_path_save, \"Y_train.npz\"), Y_train),\n",
    "    (os.path.join(data_path_save, \"X_test.npz\"), X_test),\n",
    "    (os.path.join(data_path_save, \"Y_test.npz\"), Y_test),\n",
    "    (os.path.join(data_path_save, \"X_valid.npz\"), X_valid),\n",
    "    (os.path.join(data_path_save, \"Y_valid.npz\"), Y_valid)\n",
    "])"
   ]
  },
  {
   "cell_type": "code",
   "execution_count": 6,
   "metadata": {},
   "outputs": [],
   "source": [
    "(X_train, Y_train), (X_test, Y_test), (X_valid, Y_valid) = load_data_npz(\n",
    "    [\n",
    "        os.path.join(data_path_save, \"X_train.npz\"),\n",
    "        os.path.join(data_path_save, \"Y_train.npz\"),\n",
    "        os.path.join(data_path_save, \"X_test.npz\"),\n",
    "        os.path.join(data_path_save, \"Y_test.npz\"),\n",
    "        os.path.join(data_path_save, \"X_valid.npz\"),\n",
    "        os.path.join(data_path_save, \"Y_valid.npz\")\n",
    "    ]\n",
    ")"
   ]
  },
  {
   "cell_type": "code",
   "execution_count": 7,
   "metadata": {},
   "outputs": [
    {
     "name": "stdout",
     "output_type": "stream",
     "text": [
      "(627, 75)\n",
      "(627, 3)\n",
      "(3951, 75)\n",
      "(3951, 3)\n",
      "(70, 75)\n",
      "(70, 3)\n"
     ]
    }
   ],
   "source": [
    "print(X_train.shape)\n",
    "print(Y_train.shape)\n",
    "\n",
    "print(X_test.shape)\n",
    "print(Y_test.shape)\n",
    "\n",
    "print(X_valid.shape)\n",
    "print(Y_valid.shape)"
   ]
  },
  {
   "cell_type": "code",
   "execution_count": null,
   "metadata": {},
   "outputs": [],
   "source": []
  },
  {
   "cell_type": "markdown",
   "metadata": {},
   "source": [
    "## UTS"
   ]
  },
  {
   "cell_type": "markdown",
   "metadata": {},
   "source": [
    "### Data Path UTS"
   ]
  },
  {
   "cell_type": "code",
   "execution_count": 8,
   "metadata": {},
   "outputs": [],
   "source": [
    "raw_train_dir = \"../../data/uts_data/raw/UTS_training.csv\"\n",
    "raw_test_dir = \"../../data/uts_data/raw/UTS_test.csv\"\n",
    "\n",
    "process_train_dir = \"../../data/uts_data/processed/UTS_train.csv\"\n",
    "process_test_dir = \"../../data/uts_data/processed/UTS_test.csv\"\n",
    "\n",
    "data_path_save = f\"../../data/uts_data/pca/kernal_pca_cosine_250\"\n",
    "# data_path_save = f\"../../data/uts_data/pca/pca_085\"\n",
    "Path(data_path_save).mkdir(parents=True, exist_ok=True)"
   ]
  },
  {
   "cell_type": "markdown",
   "metadata": {},
   "source": [
    "### processing data"
   ]
  },
  {
   "cell_type": "code",
   "execution_count": 9,
   "metadata": {},
   "outputs": [],
   "source": [
    "train_data = read_data(raw_train_dir)\n",
    "test_data = read_data(raw_test_dir)\n",
    "\n",
    "# constant columns\n",
    "NUM_FEATURES_RSSI = detect_num_feature_rssi(train_data)\n",
    "const_cols = constant_columns(train_data, threshold=2, column_range=NUM_FEATURES_RSSI)\n",
    "\n",
    "# normalize data\n",
    "train_data = normalize_data(train_data, num_feature=NUM_FEATURES_RSSI,\n",
    "                               removed_columns=[\"User_ID\", \"Phone_type\", \"Time\"],\n",
    "                               constant_columns=const_cols)\n",
    "test_data = normalize_data(test_data, num_feature=NUM_FEATURES_RSSI,\n",
    "                           removed_columns=[\"User_ID\", \"Phone_type\", \"Time\"],\n",
    "                           constant_columns=const_cols)\n",
    "\n",
    "# save data processs\n",
    "train_data.to_csv(process_train_dir, index=False)\n",
    "test_data.to_csv(process_test_dir, index=False)"
   ]
  },
  {
   "cell_type": "code",
   "execution_count": 10,
   "metadata": {},
   "outputs": [],
   "source": [
    "train_data = read_data(process_train_dir)\n",
    "test_data = read_data(process_test_dir)"
   ]
  },
  {
   "cell_type": "code",
   "execution_count": 11,
   "metadata": {},
   "outputs": [],
   "source": [
    "# seperate data\n",
    "X_train_, Y_train = separates_data_uts(train_data)\n",
    "X_test_, Y_test = separates_data_uts(test_data)\n",
    "\n",
    "scX = StandardScaler()\n",
    "pca = KernelPCA(n_components=250, kernel=\"cosine\")\n",
    "# pca = PCA(n_components=0.85)\n",
    "X_train_ = scX.fit_transform(X_train_)\n",
    "X_test_ = scX.transform(X_test_)\n",
    "X_train = pca.fit_transform(X_train_)\n",
    "X_test = pca.transform(X_test_)\n",
    "\n",
    "# X_train, X_valid, Y_train, Y_valid = train_test_split(X_train, Y_train, test_size=0.02, random_state=SEED)\n",
    "# X_train, X_valid, Y_train, Y_valid = train_test_split(X_train, Y_train, test_size=0.04, random_state=SEED)\n",
    "X_train, X_valid, Y_train, Y_valid = train_test_split(X_train, Y_train, test_size=0.09, random_state=SEED)\n",
    "\n",
    "# save data npz\n",
    "save_data_npz([\n",
    "    (os.path.join(data_path_save, \"X_train.npz\"), X_train),\n",
    "    (os.path.join(data_path_save, \"Y_train.npz\"), Y_train),\n",
    "    (os.path.join(data_path_save, \"X_test.npz\"), X_test),\n",
    "    (os.path.join(data_path_save, \"Y_test.npz\"), Y_test),\n",
    "    (os.path.join(data_path_save, \"X_valid.npz\"), X_valid),\n",
    "    (os.path.join(data_path_save, \"Y_valid.npz\"), Y_valid)\n",
    "])"
   ]
  },
  {
   "cell_type": "code",
   "execution_count": 12,
   "metadata": {},
   "outputs": [],
   "source": [
    "(X_train, Y_train), (X_test, Y_test), (X_valid, Y_valid) = load_data_npz(\n",
    "    [\n",
    "        os.path.join(data_path_save, \"X_train.npz\"),\n",
    "        os.path.join(data_path_save, \"Y_train.npz\"),\n",
    "        os.path.join(data_path_save, \"X_test.npz\"),\n",
    "        os.path.join(data_path_save, \"Y_test.npz\"),\n",
    "        os.path.join(data_path_save, \"X_valid.npz\"),\n",
    "        os.path.join(data_path_save, \"Y_valid.npz\")\n",
    "    ]\n",
    ")"
   ]
  },
  {
   "cell_type": "code",
   "execution_count": 13,
   "metadata": {
    "scrolled": false
   },
   "outputs": [
    {
     "name": "stdout",
     "output_type": "stream",
     "text": [
      "(8288, 250)\n",
      "(8288, 3)\n",
      "(388, 250)\n",
      "(388, 3)\n",
      "(820, 250)\n",
      "(820, 3)\n"
     ]
    }
   ],
   "source": [
    "print(X_train.shape)\n",
    "print(Y_train.shape)\n",
    "\n",
    "print(X_test.shape)\n",
    "print(Y_test.shape)\n",
    "\n",
    "print(X_valid.shape)\n",
    "print(Y_valid.shape)"
   ]
  },
  {
   "cell_type": "markdown",
   "metadata": {},
   "source": [
    "## UJI"
   ]
  },
  {
   "cell_type": "markdown",
   "metadata": {},
   "source": [
    "### Data Path UJI"
   ]
  },
  {
   "cell_type": "code",
   "execution_count": 14,
   "metadata": {},
   "outputs": [],
   "source": [
    "raw_train_dir = \"../../data/uji_data/raw/trainingData.csv\"\n",
    "raw_test_dir = \"../../data/uji_data/raw/validationData.csv\"\n",
    "\n",
    "process_train_dir = \"../../data/uji_data/processed/UJI_train.csv\"\n",
    "process_test_dir = \"../../data/uji_data/processed/UJI_test.csv\"\n",
    "\n",
    "data_path_save = f\"../../data/uji_data/pca/kernal_pca_cosine_100\"\n",
    "Path(data_path_save).mkdir(parents=True, exist_ok=True)"
   ]
  },
  {
   "cell_type": "code",
   "execution_count": 15,
   "metadata": {},
   "outputs": [],
   "source": [
    "train_data = read_data(raw_train_dir)\n",
    "test_data = read_data(raw_test_dir)\n",
    "\n",
    "LONGITUDE_MIN = -7695.9387549299299\n",
    "LATITUDE_MIN = 4864745.7450159714\n",
    "train_data[\"LONGITUDE\"] = train_data[\"LONGITUDE\"] - LONGITUDE_MIN\n",
    "train_data[\"LATITUDE\"] = train_data[\"LATITUDE\"] - LATITUDE_MIN\n",
    "test_data[\"LONGITUDE\"] = test_data[\"LONGITUDE\"] - LONGITUDE_MIN\n",
    "test_data[\"LATITUDE\"] = test_data[\"LATITUDE\"] - LATITUDE_MIN\n",
    "\n",
    "# constant columns\n",
    "NUM_FEATURES_RSSI = detect_num_feature_rssi(train_data)\n",
    "const_cols = constant_columns(train_data, threshold=2, column_range=NUM_FEATURES_RSSI)\n",
    "\n",
    "# normalize data\n",
    "train_data = normalize_data(train_data, num_feature=NUM_FEATURES_RSSI,\n",
    "                               removed_columns=[\"SPACEID\", \"RELATIVEPOSITION\", \"USERID\", \"PHONEID\", \"TIMESTAMP\"],\n",
    "                               constant_columns=const_cols)\n",
    "test_data = normalize_data(test_data, num_feature=NUM_FEATURES_RSSI,\n",
    "                           removed_columns=[\"SPACEID\", \"RELATIVEPOSITION\", \"USERID\", \"PHONEID\", \"TIMESTAMP\"],\n",
    "                           constant_columns=const_cols)\n",
    "\n",
    "# save data processs\n",
    "train_data.to_csv(process_train_dir, index=False)\n",
    "test_data.to_csv(process_test_dir, index=False)"
   ]
  },
  {
   "cell_type": "code",
   "execution_count": 16,
   "metadata": {},
   "outputs": [],
   "source": [
    "train_data = read_data(process_train_dir)\n",
    "test_data = read_data(process_test_dir)"
   ]
  },
  {
   "cell_type": "code",
   "execution_count": null,
   "metadata": {},
   "outputs": [],
   "source": [
    "# seperate data\n",
    "X_train_, Y_train = separates_data_uji(train_data)\n",
    "X_test_, Y_test = separates_data_uji(test_data)\n",
    "\n",
    "scX = StandardScaler()\n",
    "pca = KernelPCA(n_components=100, kernel=\"cosine\")\n",
    "# pca = PCA(n_components=0.75)\n",
    "X_train_ = scX.fit_transform(X_train_)\n",
    "X_test_ = scX.transform(X_test_)\n",
    "X_train = pca.fit_transform(X_train_)\n",
    "X_test = pca.transform(X_test_)\n",
    "\n",
    "# X_train, X_valid, Y_train, Y_valid = train_test_split(X_train, Y_train, test_size=0.04, random_state=SEED)\n",
    "X_train, X_valid, Y_train, Y_valid = train_test_split(X_train, Y_train, test_size=0.11, random_state=SEED)\n",
    "\n",
    "# save data npz\n",
    "save_data_npz([\n",
    "    (os.path.join(data_path_save, \"X_train.npz\"), X_train),\n",
    "    (os.path.join(data_path_save, \"Y_train.npz\"), Y_train),\n",
    "    (os.path.join(data_path_save, \"X_test.npz\"), X_test),\n",
    "    (os.path.join(data_path_save, \"Y_test.npz\"), Y_test),\n",
    "    (os.path.join(data_path_save, \"X_valid.npz\"), X_valid),\n",
    "    (os.path.join(data_path_save, \"Y_valid.npz\"), Y_valid)\n",
    "])"
   ]
  },
  {
   "cell_type": "code",
   "execution_count": null,
   "metadata": {},
   "outputs": [],
   "source": [
    "(X_train, Y_train), (X_test, Y_test), (X_valid, Y_valid) = load_data_npz(\n",
    "    [\n",
    "        os.path.join(data_path_save, \"X_train.npz\"),\n",
    "        os.path.join(data_path_save, \"Y_train.npz\"),\n",
    "        os.path.join(data_path_save, \"X_test.npz\"),\n",
    "        os.path.join(data_path_save, \"Y_test.npz\"),\n",
    "        os.path.join(data_path_save, \"X_valid.npz\"),\n",
    "        os.path.join(data_path_save, \"Y_valid.npz\")\n",
    "    ]\n",
    ")"
   ]
  },
  {
   "cell_type": "code",
   "execution_count": null,
   "metadata": {},
   "outputs": [],
   "source": [
    "print(X_train.shape)\n",
    "print(Y_train.shape)\n",
    "\n",
    "print(X_test.shape)\n",
    "print(Y_test.shape)\n",
    "\n",
    "print(X_valid.shape)\n",
    "print(Y_valid.shape)"
   ]
  },
  {
   "cell_type": "code",
   "execution_count": null,
   "metadata": {},
   "outputs": [],
   "source": []
  },
  {
   "cell_type": "code",
   "execution_count": null,
   "metadata": {},
   "outputs": [],
   "source": []
  }
 ],
 "metadata": {
  "kernelspec": {
   "display_name": "Python 3 (ipykernel)",
   "language": "python",
   "name": "python3"
  },
  "language_info": {
   "codemirror_mode": {
    "name": "ipython",
    "version": 3
   },
   "file_extension": ".py",
   "mimetype": "text/x-python",
   "name": "python",
   "nbconvert_exporter": "python",
   "pygments_lexer": "ipython3",
   "version": "3.7.16"
  }
 },
 "nbformat": 4,
 "nbformat_minor": 1
}
