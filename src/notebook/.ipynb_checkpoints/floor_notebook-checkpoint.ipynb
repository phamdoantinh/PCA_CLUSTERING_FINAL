{
 "cells": [
  {
   "cell_type": "code",
   "execution_count": 1,
   "metadata": {
    "collapsed": true
   },
   "outputs": [],
   "source": [
    "import os\n",
    "import random\n",
    "from pathlib import Path\n",
    "import numpy as np\n",
    "import matplotlib.pyplot as plt\n",
    "import pickle\n",
    "import pandas as pd\n",
    "import time\n",
    "\n",
    "import torch\n",
    "from torch.utils.data import DataLoader\n",
    "\n",
    "from copy import deepcopy\n",
    "from sklearn.metrics import accuracy_score\n",
    "from sklearn.model_selection import train_test_split\n",
    "from sklearn.preprocessing import StandardScaler\n",
    "from sklearn.cluster import KMeans, DBSCAN\n",
    "from sklearn.decomposition import PCA, KernelPCA\n",
    "from sklearn.neural_network import MLPClassifier\n",
    "from sklearn.neighbors import KNeighborsClassifier\n",
    "from sklearn.svm import SVC\n",
    "from sklearn.gaussian_process import GaussianProcessClassifier\n",
    "from sklearn.gaussian_process.kernels import RBF\n",
    "from sklearn.tree import DecisionTreeClassifier\n",
    "from sklearn.ensemble import RandomForestClassifier, AdaBoostClassifier, GradientBoostingClassifier\n",
    "from sklearn.naive_bayes import GaussianNB\n",
    "from sklearn.discriminant_analysis import QuadraticDiscriminantAnalysis\n",
    "from sklearn.ensemble import VotingClassifier\n",
    "from sklearn.tree import DecisionTreeClassifier\n",
    "from sklearn.ensemble import RandomForestClassifier, AdaBoostClassifier, GradientBoostingClassifier\n",
    "from xgboost import XGBClassifier\n",
    "from sklearn.neighbors import KNeighborsClassifier\n",
    "from xgboost import XGBRegressor\n",
    "from sklearn.neighbors import KNeighborsRegressor\n",
    "from sklearn.tree import DecisionTreeRegressor\n",
    "from sklearn.ensemble import AdaBoostRegressor, GradientBoostingRegressor\n",
    "from sklearn.svm import SVR\n",
    "from sklearn.linear_model import LogisticRegression, SGDClassifier\n",
    "\n",
    "# custom\n",
    "from src.utils.dataset import RSSIDataset\n",
    "from src.utils.file_utils import read_data, load_data, load_csv\n",
    "from src.utils.helper import get_current_date, normalize_data, separates_data_uts, mean_error, clip_gradient, \\\n",
    "    constant_columns, detect_num_feature_rssi, load_data_npz, draw_distribution_cluster, draw_kmean_distortion, \\\n",
    "    draw_kmean_silhouette, set_seed_everything\n",
    "from src.utils.models import RegressionNet, ClassificationNet, Ensemble_Model, Ensemble_Classic_Model, train_regression, \\\n",
    "    train_classification, model_evaluation, classic_model_evaluation, load_model_classification, save_model_sklearn, \\\n",
    "    load_model_sklearn\n",
    "from src.utils.loss import MeanLoss\n",
    "import src.utils.regr_utils as regr\n",
    "\n",
    "SEED = 2023\n",
    "set_seed_everything(SEED)"
   ]
  },
  {
   "cell_type": "markdown",
   "metadata": {},
   "source": [
    "### Define model path"
   ]
  },
  {
   "cell_type": "code",
   "execution_count": 2,
   "metadata": {},
   "outputs": [
    {
     "data": {
      "text/plain": [
       "'tampere'"
      ]
     },
     "execution_count": 2,
     "metadata": {},
     "output_type": "execute_result"
    }
   ],
   "source": [
    "date_str = get_current_date()\n",
    "# date_str = \"2023_02_05\"\n",
    "n_cluster_str = 2\n",
    "idx_data_type = 2\n",
    "data_type_str = [\"uts\", \"uji\", \"tampere\"]\n",
    "detail_data = \"kernal_pca_cosine_150\"\n",
    "\n",
    "all_path = {\n",
    "    'type': 'kernel_pca_100 | UTS | 2_cluster_label',\n",
    "    'n_clusters': 2,\n",
    "    'result_path': f'../../results/floor_classification/{data_type_str[idx_data_type]}/{detail_data}.csv',\n",
    "    'data_dir': f\"../../data/{data_type_str[idx_data_type]}_data/pca/{detail_data}/\",\n",
    "    'cluster': f'../../models/{data_type_str[idx_data_type]}_models/cluster_{n_cluster_str}/{date_str}/model_cluster.sav',\n",
    "    'cluster_classifier': f'../../models/{data_type_str[idx_data_type]}_models/cluster_{n_cluster_str}/{date_str}/model_cluster_classifier.sav',\n",
    "    'ensemble_classifier': f'../../models/{data_type_str[idx_data_type]}_models/cluster_{n_cluster_str}/{date_str}/ensemble_classifier',\n",
    "    'floor_classifier': f'../../models/{data_type_str[idx_data_type]}_models/cluster_{n_cluster_str}/{date_str}/model_floor_classifier.sav',\n",
    "}\n",
    "Path(all_path[\"ensemble_classifier\"]).mkdir(parents=True, exist_ok=True)\n",
    "Path(f'../../models/{data_type_str[idx_data_type]}_models/cluster_{n_cluster_str}/{date_str}/').mkdir(parents=True, exist_ok=True)\n",
    "data_type_str[idx_data_type]"
   ]
  },
  {
   "cell_type": "markdown",
   "metadata": {},
   "source": [
    "### Load Data"
   ]
  },
  {
   "cell_type": "code",
   "execution_count": 3,
   "metadata": {},
   "outputs": [],
   "source": [
    "# data_dir = \"../../data/uts_data/pca/kernal_pca_cosine_100/\"\n",
    "data_dir = all_path[\"data_dir\"]\n",
    "\n",
    "(X_train, Y_train), (X_test, Y_test), (X_valid, Y_valid) = load_data_npz(\n",
    "    [\n",
    "        os.path.join(data_dir, \"X_train.npz\"),\n",
    "        os.path.join(data_dir, \"Y_train.npz\"),\n",
    "        os.path.join(data_dir, \"X_test.npz\"),\n",
    "        os.path.join(data_dir, \"Y_test.npz\"),\n",
    "        os.path.join(data_dir, \"X_valid.npz\"),\n",
    "        os.path.join(data_dir, \"Y_valid.npz\")\n",
    "    ]\n",
    ")\n",
    "\n",
    "# cluster_model = load_model_sklearn(all_path[\"cluster\"])\n",
    "# Z_train = cluster_model.predict(Y_train[:,:2])\n",
    "# Z_test = cluster_model.predict(Y_test[:,:2])\n",
    "# Z_valid = cluster_model.predict(Y_valid[:,:2])\n",
    "\n",
    "X_train = np.vstack([X_train, X_valid])\n",
    "Y_train = np.vstack([Y_train, Y_valid])\n",
    "\n",
    "Y_train = Y_train[:, 2]\n",
    "Y_test = Y_test[:, 2]\n",
    "Y_valid = Y_valid[:, 2]"
   ]
  },
  {
   "cell_type": "code",
   "execution_count": 2,
   "metadata": {},
   "outputs": [
    {
     "name": "stdout",
     "output_type": "stream",
     "text": [
      "************** tampere | pca_085 ************** \n",
      "==== SGDClassifier ====\n",
      "\tScore: 0.9096431283219438 | Training Time: 0.021115779876708984\n",
      "==== SVC ====\n",
      "\tScore: 0.9053404201467983 | Training Time: 0.2947564125061035\n",
      "==== LogisticRegression ====\n",
      "\tScore: 0.914705137939762 | Training Time: 0.19139671325683594\n",
      "==== GradientBoostingClassifier ====\n"
     ]
    },
    {
     "name": "stderr",
     "output_type": "stream",
     "text": [
      "/home/namnv/miniconda3/envs/uts/lib/python3.7/site-packages/sklearn/linear_model/_logistic.py:818: ConvergenceWarning: lbfgs failed to converge (status=1):\n",
      "STOP: TOTAL NO. of ITERATIONS REACHED LIMIT.\n",
      "\n",
      "Increase the number of iterations (max_iter) or scale the data as shown in:\n",
      "    https://scikit-learn.org/stable/modules/preprocessing.html\n",
      "Please also refer to the documentation for alternative solver options:\n",
      "    https://scikit-learn.org/stable/modules/linear_model.html#logistic-regression\n",
      "  extra_warning_msg=_LOGISTIC_SOLVER_CONVERGENCE_MSG,\n"
     ]
    },
    {
     "name": "stdout",
     "output_type": "stream",
     "text": [
      "\tScore: 0.8936977980258163 | Training Time: 2.4324100017547607\n",
      "==== XGBClassifier ====\n",
      "\tScore: 0.9104024297646166 | Training Time: 0.38563036918640137\n",
      "==== MLPClassifier ====\n"
     ]
    },
    {
     "name": "stderr",
     "output_type": "stream",
     "text": [
      "/home/namnv/miniconda3/envs/uts/lib/python3.7/site-packages/sklearn/neural_network/_multilayer_perceptron.py:696: ConvergenceWarning: Stochastic Optimizer: Maximum iterations (200) reached and the optimization hasn't converged yet.\n",
      "  ConvergenceWarning,\n"
     ]
    },
    {
     "name": "stdout",
     "output_type": "stream",
     "text": [
      "\tScore: 0.9225512528473804 | Training Time: 1.5173852443695068\n",
      "==== KNeighborsClassifier ====\n",
      "\tScore: 0.8640850417615793 | Training Time: 0.17134594917297363\n",
      "==== AdaBoostClassifier ====\n",
      "\tScore: 0.5408757276638826 | Training Time: 0.2974236011505127\n",
      "==== RandomForestClassifier ====\n",
      "\tScore: 0.8759807643634523 | Training Time: 0.21120214462280273\n",
      "==== GaussianNB ====\n",
      "\tScore: 0.5854214123006833 | Training Time: 0.0059146881103515625\n",
      "==== DecisionTreeClassifier ====\n",
      "\tScore: 0.7934700075930144 | Training Time: 0.01810598373413086\n",
      "==== LinearDiscriminantAnalysis ====\n",
      "\tScore: 0.8949633004302708 | Training Time: 0.010270357131958008\n",
      "==== QuadraticDiscriminantAnalysis ====\n",
      "\tScore: 0.8134649455833967 | Training Time: 0.06567740440368652\n",
      "************** tampere | kernal_pca_cosine_100 ************** \n",
      "==== SGDClassifier ====\n",
      "\tScore: 0.9395089850670716 | Training Time: 0.021493196487426758\n",
      "==== SVC ====\n"
     ]
    },
    {
     "name": "stderr",
     "output_type": "stream",
     "text": [
      "/home/namnv/miniconda3/envs/uts/lib/python3.7/site-packages/sklearn/discriminant_analysis.py:878: UserWarning: Variables are collinear\n",
      "  warnings.warn(\"Variables are collinear\")\n"
     ]
    },
    {
     "name": "stdout",
     "output_type": "stream",
     "text": [
      "\tScore: 0.9326752720830169 | Training Time: 0.2849881649017334\n",
      "==== LogisticRegression ====\n",
      "\tScore: 0.9319159706403443 | Training Time: 0.04422283172607422\n",
      "==== GradientBoostingClassifier ====\n",
      "\tScore: 0.911921032649962 | Training Time: 4.093716621398926\n",
      "==== XGBClassifier ====\n",
      "\tScore: 0.9281194634269805 | Training Time: 0.42107224464416504\n",
      "==== MLPClassifier ====\n"
     ]
    },
    {
     "name": "stderr",
     "output_type": "stream",
     "text": [
      "/home/namnv/miniconda3/envs/uts/lib/python3.7/site-packages/sklearn/neural_network/_multilayer_perceptron.py:696: ConvergenceWarning: Stochastic Optimizer: Maximum iterations (200) reached and the optimization hasn't converged yet.\n",
      "  ConvergenceWarning,\n"
     ]
    },
    {
     "name": "stdout",
     "output_type": "stream",
     "text": [
      "\tScore: 0.9362186788154897 | Training Time: 1.8201844692230225\n",
      "==== KNeighborsClassifier ====\n",
      "\tScore: 0.8714249557074158 | Training Time: 0.2724263668060303\n",
      "==== AdaBoostClassifier ====\n",
      "\tScore: 0.48215641609719057 | Training Time: 0.4594380855560303\n",
      "==== RandomForestClassifier ====\n",
      "\tScore: 0.8597823335864339 | Training Time: 0.2764735221862793\n",
      "==== GaussianNB ====\n",
      "\tScore: 0.8354846874209061 | Training Time: 0.008187055587768555\n",
      "==== DecisionTreeClassifier ====\n",
      "\tScore: 0.7717033662363959 | Training Time: 0.026159286499023438\n",
      "==== LinearDiscriminantAnalysis ====\n",
      "\tScore: 0.9336876740065806 | Training Time: 0.011356830596923828\n",
      "==== QuadraticDiscriminantAnalysis ====\n",
      "\tScore: 0.815236648949633 | Training Time: 0.07069802284240723\n",
      "************** tampere | pca_090 ************** \n",
      "==== SGDClassifier ====\n",
      "\tScore: 0.9233105542900532 | Training Time: 0.029198884963989258\n",
      "==== SVC ====\n"
     ]
    },
    {
     "name": "stderr",
     "output_type": "stream",
     "text": [
      "/home/namnv/miniconda3/envs/uts/lib/python3.7/site-packages/sklearn/discriminant_analysis.py:878: UserWarning: Variables are collinear\n",
      "  warnings.warn(\"Variables are collinear\")\n"
     ]
    },
    {
     "name": "stdout",
     "output_type": "stream",
     "text": [
      "\tScore: 0.906099721589471 | Training Time: 0.41637682914733887\n",
      "==== LogisticRegression ====\n",
      "\tScore: 0.9217919514047077 | Training Time: 0.10855555534362793\n",
      "==== GradientBoostingClassifier ====\n"
     ]
    },
    {
     "name": "stderr",
     "output_type": "stream",
     "text": [
      "/home/namnv/miniconda3/envs/uts/lib/python3.7/site-packages/sklearn/linear_model/_logistic.py:818: ConvergenceWarning: lbfgs failed to converge (status=1):\n",
      "STOP: TOTAL NO. of ITERATIONS REACHED LIMIT.\n",
      "\n",
      "Increase the number of iterations (max_iter) or scale the data as shown in:\n",
      "    https://scikit-learn.org/stable/modules/preprocessing.html\n",
      "Please also refer to the documentation for alternative solver options:\n",
      "    https://scikit-learn.org/stable/modules/linear_model.html#logistic-regression\n",
      "  extra_warning_msg=_LOGISTIC_SOLVER_CONVERGENCE_MSG,\n"
     ]
    },
    {
     "name": "stdout",
     "output_type": "stream",
     "text": [
      "\tScore: 0.8830675778283978 | Training Time: 3.638658285140991\n",
      "==== XGBClassifier ====\n",
      "\tScore: 0.9078714249557074 | Training Time: 0.4677860736846924\n",
      "==== MLPClassifier ====\n"
     ]
    },
    {
     "name": "stderr",
     "output_type": "stream",
     "text": [
      "/home/namnv/miniconda3/envs/uts/lib/python3.7/site-packages/sklearn/neural_network/_multilayer_perceptron.py:696: ConvergenceWarning: Stochastic Optimizer: Maximum iterations (200) reached and the optimization hasn't converged yet.\n",
      "  ConvergenceWarning,\n"
     ]
    },
    {
     "name": "stdout",
     "output_type": "stream",
     "text": [
      "\tScore: 0.9336876740065806 | Training Time: 2.8513782024383545\n",
      "==== KNeighborsClassifier ====\n",
      "\tScore: 0.862313338395343 | Training Time: 0.2556123733520508\n",
      "==== AdaBoostClassifier ====\n",
      "\tScore: 0.5998481397114654 | Training Time: 0.5363149642944336\n",
      "==== RandomForestClassifier ====\n",
      "\tScore: 0.8726904581118704 | Training Time: 0.28781867027282715\n",
      "==== GaussianNB ====\n",
      "\tScore: 0.5585927613262465 | Training Time: 0.009184122085571289\n",
      "==== DecisionTreeClassifier ====\n",
      "\tScore: 0.7866362946089598 | Training Time: 0.028819799423217773\n",
      "==== LinearDiscriminantAnalysis ====\n",
      "\tScore: 0.9139458364970894 | Training Time: 0.012568950653076172\n",
      "==== QuadraticDiscriminantAnalysis ====\n",
      "\tScore: 0.7529739306504682 | Training Time: 0.042479753494262695\n",
      "************** tampere | kernal_pca_cosine_75 ************** \n",
      "==== SGDClassifier ====\n",
      "\tScore: 0.9387496836243989 | Training Time: 0.021733522415161133\n",
      "==== SVC ====\n"
     ]
    },
    {
     "name": "stderr",
     "output_type": "stream",
     "text": [
      "/home/namnv/miniconda3/envs/uts/lib/python3.7/site-packages/sklearn/discriminant_analysis.py:878: UserWarning: Variables are collinear\n",
      "  warnings.warn(\"Variables are collinear\")\n"
     ]
    },
    {
     "name": "stdout",
     "output_type": "stream",
     "text": [
      "\tScore: 0.9334345735256897 | Training Time: 0.34302592277526855\n",
      "==== LogisticRegression ====\n",
      "\tScore: 0.9334345735256897 | Training Time: 0.02721428871154785\n",
      "==== GradientBoostingClassifier ====\n",
      "\tScore: 0.9136927360161984 | Training Time: 3.7913262844085693\n",
      "==== XGBClassifier ====\n",
      "\tScore: 0.9319159706403443 | Training Time: 0.3563060760498047\n",
      "==== MLPClassifier ====\n"
     ]
    },
    {
     "name": "stderr",
     "output_type": "stream",
     "text": [
      "/home/namnv/miniconda3/envs/uts/lib/python3.7/site-packages/sklearn/neural_network/_multilayer_perceptron.py:696: ConvergenceWarning: Stochastic Optimizer: Maximum iterations (200) reached and the optimization hasn't converged yet.\n",
      "  ConvergenceWarning,\n"
     ]
    },
    {
     "name": "stdout",
     "output_type": "stream",
     "text": [
      "\tScore: 0.9445709946848899 | Training Time: 2.554349184036255\n",
      "==== KNeighborsClassifier ====\n",
      "\tScore: 0.8663629460895975 | Training Time: 0.23609161376953125\n",
      "==== AdaBoostClassifier ====\n",
      "\tScore: 0.5069602632245002 | Training Time: 0.39877820014953613\n",
      "==== RandomForestClassifier ====\n",
      "\tScore: 0.8790179701341433 | Training Time: 0.25493788719177246\n",
      "==== GaussianNB ====\n",
      "\tScore: 0.856238926853961 | Training Time: 0.006421804428100586\n",
      "==== DecisionTreeClassifier ====\n",
      "\tScore: 0.7727157681599595 | Training Time: 0.02037191390991211\n",
      "==== LinearDiscriminantAnalysis ====\n",
      "\tScore: 0.938243482662617 | Training Time: 0.00803232192993164\n",
      "==== QuadraticDiscriminantAnalysis ====\n",
      "\tScore: 0.8678815489749431 | Training Time: 0.049226999282836914\n",
      "************** tampere | pca_095 ************** \n",
      "==== SGDClassifier ====\n",
      "\tScore: 0.9268539610225259 | Training Time: 0.02888798713684082\n",
      "==== SVC ====\n"
     ]
    },
    {
     "name": "stderr",
     "output_type": "stream",
     "text": [
      "/home/namnv/miniconda3/envs/uts/lib/python3.7/site-packages/sklearn/discriminant_analysis.py:878: UserWarning: Variables are collinear\n",
      "  warnings.warn(\"Variables are collinear\")\n"
     ]
    },
    {
     "name": "stdout",
     "output_type": "stream",
     "text": [
      "\tScore: 0.9136927360161984 | Training Time: 0.5963585376739502\n",
      "==== LogisticRegression ====\n",
      "\tScore: 0.9260946595798532 | Training Time: 0.16763901710510254\n",
      "==== GradientBoostingClassifier ====\n"
     ]
    },
    {
     "name": "stderr",
     "output_type": "stream",
     "text": [
      "/home/namnv/miniconda3/envs/uts/lib/python3.7/site-packages/sklearn/linear_model/_logistic.py:818: ConvergenceWarning: lbfgs failed to converge (status=1):\n",
      "STOP: TOTAL NO. of ITERATIONS REACHED LIMIT.\n",
      "\n",
      "Increase the number of iterations (max_iter) or scale the data as shown in:\n",
      "    https://scikit-learn.org/stable/modules/preprocessing.html\n",
      "Please also refer to the documentation for alternative solver options:\n",
      "    https://scikit-learn.org/stable/modules/linear_model.html#logistic-regression\n",
      "  extra_warning_msg=_LOGISTIC_SOLVER_CONVERGENCE_MSG,\n"
     ]
    },
    {
     "name": "stdout",
     "output_type": "stream",
     "text": [
      "\tScore: 0.8830675778283978 | Training Time: 4.966214656829834\n",
      "==== XGBClassifier ====\n",
      "\tScore: 0.9104024297646166 | Training Time: 0.6610338687896729\n",
      "==== MLPClassifier ====\n"
     ]
    },
    {
     "name": "stderr",
     "output_type": "stream",
     "text": [
      "/home/namnv/miniconda3/envs/uts/lib/python3.7/site-packages/sklearn/neural_network/_multilayer_perceptron.py:696: ConvergenceWarning: Stochastic Optimizer: Maximum iterations (200) reached and the optimization hasn't converged yet.\n",
      "  ConvergenceWarning,\n"
     ]
    },
    {
     "name": "stdout",
     "output_type": "stream",
     "text": [
      "\tScore: 0.9331814730447988 | Training Time: 2.8850409984588623\n",
      "==== KNeighborsClassifier ====\n",
      "\tScore: 0.8615540369526702 | Training Time: 0.24492931365966797\n",
      "==== AdaBoostClassifier ====\n",
      "\tScore: 0.5841559098962288 | Training Time: 0.6754205226898193\n",
      "==== RandomForestClassifier ====\n",
      "\tScore: 0.8790179701341433 | Training Time: 0.3295011520385742\n",
      "==== GaussianNB ====\n",
      "\tScore: 0.5641609719058466 | Training Time: 0.013318777084350586\n",
      "==== DecisionTreeClassifier ====\n",
      "\tScore: 0.7879017970134143 | Training Time: 0.04173779487609863\n",
      "==== LinearDiscriminantAnalysis ====\n",
      "\tScore: 0.9392558845861807 | Training Time: 0.01943516731262207\n",
      "==== QuadraticDiscriminantAnalysis ====\n",
      "\tScore: 0.533535813718046 | Training Time: 0.0670628547668457\n",
      "************** tampere | kernal_pca_cosine_150 ************** \n",
      "==== SGDClassifier ====\n"
     ]
    },
    {
     "name": "stderr",
     "output_type": "stream",
     "text": [
      "/home/namnv/miniconda3/envs/uts/lib/python3.7/site-packages/sklearn/discriminant_analysis.py:878: UserWarning: Variables are collinear\n",
      "  warnings.warn(\"Variables are collinear\")\n"
     ]
    },
    {
     "name": "stdout",
     "output_type": "stream",
     "text": [
      "\tScore: 0.9430523917995444 | Training Time: 0.04590487480163574\n",
      "==== SVC ====\n",
      "\tScore: 0.9326752720830169 | Training Time: 0.5791933536529541\n",
      "==== LogisticRegression ====\n",
      "\tScore: 0.9349531764110351 | Training Time: 0.04936695098876953\n",
      "==== GradientBoostingClassifier ====\n",
      "\tScore: 0.9098962288028347 | Training Time: 7.348644256591797\n",
      "==== XGBClassifier ====\n",
      "\tScore: 0.9253353581371805 | Training Time: 0.6884729862213135\n",
      "==== MLPClassifier ====\n"
     ]
    },
    {
     "name": "stderr",
     "output_type": "stream",
     "text": [
      "/home/namnv/miniconda3/envs/uts/lib/python3.7/site-packages/sklearn/neural_network/_multilayer_perceptron.py:696: ConvergenceWarning: Stochastic Optimizer: Maximum iterations (200) reached and the optimization hasn't converged yet.\n",
      "  ConvergenceWarning,\n"
     ]
    },
    {
     "name": "stdout",
     "output_type": "stream",
     "text": [
      "\tScore: 0.9364717792963807 | Training Time: 2.473914384841919\n",
      "==== KNeighborsClassifier ====\n",
      "\tScore: 0.8795241710959251 | Training Time: 0.24040484428405762\n",
      "==== AdaBoostClassifier ====\n",
      "\tScore: 0.536573019488737 | Training Time: 0.6341032981872559\n",
      "==== RandomForestClassifier ====\n",
      "\tScore: 0.8620602379144521 | Training Time: 0.3038291931152344\n",
      "==== GaussianNB ====\n",
      "\tScore: 0.7679068590230321 | Training Time: 0.015361785888671875\n",
      "==== DecisionTreeClassifier ====\n",
      "\tScore: 0.7727157681599595 | Training Time: 0.039063215255737305\n",
      "==== LinearDiscriminantAnalysis ====\n",
      "\tScore: 0.9314097696785624 | Training Time: 0.019159555435180664\n",
      "==== QuadraticDiscriminantAnalysis ====\n",
      "\tScore: 0.5299924069855733 | Training Time: 0.0689089298248291\n",
      "************** tampere | no_pca ************** \n"
     ]
    },
    {
     "name": "stderr",
     "output_type": "stream",
     "text": [
      "/home/namnv/miniconda3/envs/uts/lib/python3.7/site-packages/sklearn/discriminant_analysis.py:878: UserWarning: Variables are collinear\n",
      "  warnings.warn(\"Variables are collinear\")\n"
     ]
    },
    {
     "name": "stdout",
     "output_type": "stream",
     "text": [
      "==== SGDClassifier ====\n",
      "\tScore: 0.38461538461538464 | Training Time: 0.7454876899719238\n",
      "==== SVC ====\n",
      "\tScore: 0.6410256410256411 | Training Time: 24.963053703308105\n",
      "==== LogisticRegression ====\n"
     ]
    },
    {
     "name": "stderr",
     "output_type": "stream",
     "text": [
      "/home/namnv/miniconda3/envs/uts/lib/python3.7/site-packages/sklearn/linear_model/_logistic.py:818: ConvergenceWarning: lbfgs failed to converge (status=1):\n",
      "STOP: TOTAL NO. of ITERATIONS REACHED LIMIT.\n",
      "\n",
      "Increase the number of iterations (max_iter) or scale the data as shown in:\n",
      "    https://scikit-learn.org/stable/modules/preprocessing.html\n",
      "Please also refer to the documentation for alternative solver options:\n",
      "    https://scikit-learn.org/stable/modules/linear_model.html#logistic-regression\n",
      "  extra_warning_msg=_LOGISTIC_SOLVER_CONVERGENCE_MSG,\n"
     ]
    },
    {
     "name": "stdout",
     "output_type": "stream",
     "text": [
      "\tScore: 0.6538461538461539 | Training Time: 2.9832966327667236\n",
      "==== GradientBoostingClassifier ====\n",
      "\tScore: 0.6025641025641025 | Training Time: 71.00478935241699\n",
      "==== XGBClassifier ====\n",
      "\tScore: 0.4935897435897436 | Training Time: 16.3310124874115\n",
      "==== MLPClassifier ====\n",
      "\tScore: 0.6282051282051282 | Training Time: 11.525933265686035\n",
      "==== KNeighborsClassifier ====\n",
      "\tScore: 0.5833333333333334 | Training Time: 0.11054825782775879\n",
      "==== AdaBoostClassifier ====\n",
      "\tScore: 0.5641025641025641 | Training Time: 4.871109485626221\n",
      "==== RandomForestClassifier ====\n",
      "\tScore: 0.38461538461538464 | Training Time: 0.9849584102630615\n",
      "==== GaussianNB ====\n",
      "\tScore: 0.5833333333333334 | Training Time: 0.07104325294494629\n",
      "==== DecisionTreeClassifier ====\n",
      "\tScore: 0.3717948717948718 | Training Time: 0.35048723220825195\n",
      "==== LinearDiscriminantAnalysis ====\n",
      "\tScore: 0.6666666666666666 | Training Time: 2.2002906799316406\n",
      "==== QuadraticDiscriminantAnalysis ====\n"
     ]
    },
    {
     "name": "stderr",
     "output_type": "stream",
     "text": [
      "/home/namnv/miniconda3/envs/uts/lib/python3.7/site-packages/sklearn/discriminant_analysis.py:878: UserWarning: Variables are collinear\n",
      "  warnings.warn(\"Variables are collinear\")\n"
     ]
    },
    {
     "name": "stdout",
     "output_type": "stream",
     "text": [
      "\tScore: 0.5833333333333334 | Training Time: 2.340047597885132\n",
      "\n",
      "************** uji | pca_085 ************** \n",
      "==== SGDClassifier ====\n",
      "\tScore: 0.855985598559856 | Training Time: 8.853058099746704\n",
      "==== SVC ====\n",
      "\tScore: 0.8532853285328533 | Training Time: 28.939765691757202\n",
      "==== LogisticRegression ====\n"
     ]
    },
    {
     "name": "stderr",
     "output_type": "stream",
     "text": [
      "/home/namnv/miniconda3/envs/uts/lib/python3.7/site-packages/sklearn/linear_model/_logistic.py:818: ConvergenceWarning: lbfgs failed to converge (status=1):\n",
      "STOP: TOTAL NO. of ITERATIONS REACHED LIMIT.\n",
      "\n",
      "Increase the number of iterations (max_iter) or scale the data as shown in:\n",
      "    https://scikit-learn.org/stable/modules/preprocessing.html\n",
      "Please also refer to the documentation for alternative solver options:\n",
      "    https://scikit-learn.org/stable/modules/linear_model.html#logistic-regression\n",
      "  extra_warning_msg=_LOGISTIC_SOLVER_CONVERGENCE_MSG,\n"
     ]
    },
    {
     "name": "stdout",
     "output_type": "stream",
     "text": [
      "\tScore: 0.8856885688568857 | Training Time: 3.976321220397949\n",
      "==== GradientBoostingClassifier ====\n",
      "\tScore: 0.21332133213321333 | Training Time: 1675.9010257720947\n",
      "==== XGBClassifier ====\n",
      "\tScore: 0.8838883888388839 | Training Time: 64.29004263877869\n",
      "==== MLPClassifier ====\n",
      "\tScore: 0.891989198919892 | Training Time: 18.876123666763306\n",
      "==== KNeighborsClassifier ====\n",
      "\tScore: 0.8361836183618362 | Training Time: 0.6677923202514648\n",
      "==== AdaBoostClassifier ====\n",
      "\tScore: 0.39243924392439244 | Training Time: 17.46678924560547\n",
      "==== RandomForestClassifier ====\n",
      "\tScore: 0.8118811881188119 | Training Time: 7.005306720733643\n",
      "==== GaussianNB ====\n",
      "\tScore: 0.44734473447344736 | Training Time: 0.026973247528076172\n",
      "==== DecisionTreeClassifier ====\n",
      "\tScore: 0.720972097209721 | Training Time: 1.4759292602539062\n",
      "==== LinearDiscriminantAnalysis ====\n",
      "\tScore: 0.8766876687668766 | Training Time: 0.3682210445404053\n",
      "==== QuadraticDiscriminantAnalysis ====\n"
     ]
    },
    {
     "name": "stderr",
     "output_type": "stream",
     "text": [
      "/home/namnv/miniconda3/envs/uts/lib/python3.7/site-packages/sklearn/discriminant_analysis.py:878: UserWarning: Variables are collinear\n",
      "  warnings.warn(\"Variables are collinear\")\n"
     ]
    },
    {
     "name": "stdout",
     "output_type": "stream",
     "text": [
      "\tScore: 0.5157515751575158 | Training Time: 0.3829476833343506\n",
      "************** uji | kernal_pca_cosine_100 ************** \n",
      "==== SGDClassifier ====\n",
      "\tScore: 0.9144914491449145 | Training Time: 0.25043725967407227\n",
      "==== SVC ====\n",
      "\tScore: 0.9270927092709271 | Training Time: 15.218505859375\n",
      "==== LogisticRegression ====\n"
     ]
    },
    {
     "name": "stderr",
     "output_type": "stream",
     "text": [
      "/home/namnv/miniconda3/envs/uts/lib/python3.7/site-packages/sklearn/linear_model/_logistic.py:818: ConvergenceWarning: lbfgs failed to converge (status=1):\n",
      "STOP: TOTAL NO. of ITERATIONS REACHED LIMIT.\n",
      "\n",
      "Increase the number of iterations (max_iter) or scale the data as shown in:\n",
      "    https://scikit-learn.org/stable/modules/preprocessing.html\n",
      "Please also refer to the documentation for alternative solver options:\n",
      "    https://scikit-learn.org/stable/modules/linear_model.html#logistic-regression\n",
      "  extra_warning_msg=_LOGISTIC_SOLVER_CONVERGENCE_MSG,\n"
     ]
    },
    {
     "name": "stdout",
     "output_type": "stream",
     "text": [
      "\tScore: 0.9054905490549054 | Training Time: 1.713855504989624\n",
      "==== GradientBoostingClassifier ====\n",
      "\tScore: 0.8793879387938794 | Training Time: 390.20384979248047\n",
      "==== XGBClassifier ====\n",
      "\tScore: 0.9081908190819082 | Training Time: 27.559626579284668\n",
      "==== MLPClassifier ====\n",
      "\tScore: 0.9198919891989199 | Training Time: 27.100916624069214\n",
      "==== KNeighborsClassifier ====\n",
      "\tScore: 0.8811881188118812 | Training Time: 0.6070902347564697\n",
      "==== AdaBoostClassifier ====\n",
      "\tScore: 0.1998199819981998 | Training Time: 9.678816556930542\n",
      "==== RandomForestClassifier ====\n",
      "\tScore: 0.7875787578757876 | Training Time: 5.491925477981567\n",
      "==== GaussianNB ====\n",
      "\tScore: 0.5229522952295229 | Training Time: 0.01660943031311035\n",
      "==== DecisionTreeClassifier ====\n",
      "\tScore: 0.6291629162916291 | Training Time: 0.8445127010345459\n",
      "==== LinearDiscriminantAnalysis ====\n",
      "\tScore: 0.9045904590459046 | Training Time: 0.21319174766540527\n",
      "==== QuadraticDiscriminantAnalysis ====\n",
      "\tScore: 0.846984698469847 | Training Time: 0.119537353515625\n",
      "************** uji | pca_090 ************** \n"
     ]
    },
    {
     "name": "stderr",
     "output_type": "stream",
     "text": [
      "/home/namnv/miniconda3/envs/uts/lib/python3.7/site-packages/sklearn/discriminant_analysis.py:878: UserWarning: Variables are collinear\n",
      "  warnings.warn(\"Variables are collinear\")\n"
     ]
    },
    {
     "name": "stdout",
     "output_type": "stream",
     "text": [
      "==== SGDClassifier ====\n",
      "\tScore: 0.8703870387038704 | Training Time: 6.472076177597046\n",
      "==== SVC ====\n",
      "\tScore: 0.8496849684968497 | Training Time: 30.766912937164307\n",
      "==== LogisticRegression ====\n"
     ]
    },
    {
     "name": "stderr",
     "output_type": "stream",
     "text": [
      "/home/namnv/miniconda3/envs/uts/lib/python3.7/site-packages/sklearn/linear_model/_logistic.py:818: ConvergenceWarning: lbfgs failed to converge (status=1):\n",
      "STOP: TOTAL NO. of ITERATIONS REACHED LIMIT.\n",
      "\n",
      "Increase the number of iterations (max_iter) or scale the data as shown in:\n",
      "    https://scikit-learn.org/stable/modules/preprocessing.html\n",
      "Please also refer to the documentation for alternative solver options:\n",
      "    https://scikit-learn.org/stable/modules/linear_model.html#logistic-regression\n",
      "  extra_warning_msg=_LOGISTIC_SOLVER_CONVERGENCE_MSG,\n"
     ]
    },
    {
     "name": "stdout",
     "output_type": "stream",
     "text": [
      "\tScore: 0.8802880288028803 | Training Time: 3.6481966972351074\n",
      "==== GradientBoostingClassifier ====\n",
      "\tScore: 0.6678667866786678 | Training Time: 2124.7335155010223\n",
      "==== XGBClassifier ====\n",
      "\tScore: 0.8793879387938794 | Training Time: 77.77369904518127\n",
      "==== MLPClassifier ====\n",
      "\tScore: 0.8811881188118812 | Training Time: 16.867950677871704\n",
      "==== KNeighborsClassifier ====\n",
      "\tScore: 0.8325832583258326 | Training Time: 0.6518046855926514\n",
      "==== AdaBoostClassifier ====\n",
      "\tScore: 0.39243924392439244 | Training Time: 21.180734872817993\n",
      "==== RandomForestClassifier ====\n",
      "\tScore: 0.801980198019802 | Training Time: 8.175941944122314\n",
      "==== GaussianNB ====\n",
      "\tScore: 0.44374437443744374 | Training Time: 0.03318619728088379\n",
      "==== DecisionTreeClassifier ====\n",
      "\tScore: 0.720972097209721 | Training Time: 1.8043019771575928\n",
      "==== LinearDiscriminantAnalysis ====\n",
      "\tScore: 0.891989198919892 | Training Time: 0.4213879108428955\n",
      "==== QuadraticDiscriminantAnalysis ====\n"
     ]
    },
    {
     "name": "stderr",
     "output_type": "stream",
     "text": [
      "/home/namnv/miniconda3/envs/uts/lib/python3.7/site-packages/sklearn/discriminant_analysis.py:878: UserWarning: Variables are collinear\n",
      "  warnings.warn(\"Variables are collinear\")\n"
     ]
    },
    {
     "name": "stdout",
     "output_type": "stream",
     "text": [
      "\tScore: 0.5229522952295229 | Training Time: 0.4903569221496582\n",
      "************** uji | pca_095 ************** \n",
      "==== SGDClassifier ====\n",
      "\tScore: 0.882988298829883 | Training Time: 6.992322206497192\n",
      "==== SVC ====\n",
      "\tScore: 0.8460846084608461 | Training Time: 41.8897385597229\n",
      "==== LogisticRegression ====\n"
     ]
    },
    {
     "name": "stderr",
     "output_type": "stream",
     "text": [
      "/home/namnv/miniconda3/envs/uts/lib/python3.7/site-packages/sklearn/linear_model/_logistic.py:818: ConvergenceWarning: lbfgs failed to converge (status=1):\n",
      "STOP: TOTAL NO. of ITERATIONS REACHED LIMIT.\n",
      "\n",
      "Increase the number of iterations (max_iter) or scale the data as shown in:\n",
      "    https://scikit-learn.org/stable/modules/preprocessing.html\n",
      "Please also refer to the documentation for alternative solver options:\n",
      "    https://scikit-learn.org/stable/modules/linear_model.html#logistic-regression\n",
      "  extra_warning_msg=_LOGISTIC_SOLVER_CONVERGENCE_MSG,\n"
     ]
    },
    {
     "name": "stdout",
     "output_type": "stream",
     "text": [
      "\tScore: 0.8946894689468947 | Training Time: 4.007563352584839\n",
      "==== GradientBoostingClassifier ====\n",
      "\tScore: 0.1332133213321332 | Training Time: 2546.0814945697784\n",
      "==== XGBClassifier ====\n",
      "\tScore: 0.8784878487848785 | Training Time: 98.20627188682556\n",
      "==== MLPClassifier ====\n",
      "\tScore: 0.9000900090009001 | Training Time: 23.81373119354248\n",
      "==== KNeighborsClassifier ====\n",
      "\tScore: 0.8244824482448245 | Training Time: 0.7169058322906494\n",
      "==== AdaBoostClassifier ====\n",
      "\tScore: 0.39243924392439244 | Training Time: 26.84728717803955\n",
      "==== RandomForestClassifier ====\n",
      "\tScore: 0.8037803780378038 | Training Time: 9.319465398788452\n",
      "==== GaussianNB ====\n",
      "\tScore: 0.45544554455445546 | Training Time: 0.04223966598510742\n",
      "==== DecisionTreeClassifier ====\n",
      "\tScore: 0.720972097209721 | Training Time: 2.288831949234009\n",
      "==== LinearDiscriminantAnalysis ====\n",
      "\tScore: 0.9081908190819082 | Training Time: 0.5385687351226807\n",
      "==== QuadraticDiscriminantAnalysis ====\n"
     ]
    },
    {
     "name": "stderr",
     "output_type": "stream",
     "text": [
      "/home/namnv/miniconda3/envs/uts/lib/python3.7/site-packages/sklearn/discriminant_analysis.py:878: UserWarning: Variables are collinear\n",
      "  warnings.warn(\"Variables are collinear\")\n"
     ]
    },
    {
     "name": "stdout",
     "output_type": "stream",
     "text": [
      "\tScore: 0.49864986498649866 | Training Time: 0.8843536376953125\n",
      "************** uji | kernal_pca_cosine_200 ************** \n",
      "==== SGDClassifier ====\n",
      "\tScore: 0.8874887488748875 | Training Time: 0.37994813919067383\n",
      "==== SVC ====\n",
      "\tScore: 0.9198919891989199 | Training Time: 35.76627278327942\n",
      "==== LogisticRegression ====\n"
     ]
    },
    {
     "name": "stderr",
     "output_type": "stream",
     "text": [
      "/home/namnv/miniconda3/envs/uts/lib/python3.7/site-packages/sklearn/linear_model/_logistic.py:818: ConvergenceWarning: lbfgs failed to converge (status=1):\n",
      "STOP: TOTAL NO. of ITERATIONS REACHED LIMIT.\n",
      "\n",
      "Increase the number of iterations (max_iter) or scale the data as shown in:\n",
      "    https://scikit-learn.org/stable/modules/preprocessing.html\n",
      "Please also refer to the documentation for alternative solver options:\n",
      "    https://scikit-learn.org/stable/modules/linear_model.html#logistic-regression\n",
      "  extra_warning_msg=_LOGISTIC_SOLVER_CONVERGENCE_MSG,\n"
     ]
    },
    {
     "name": "stdout",
     "output_type": "stream",
     "text": [
      "\tScore: 0.8811881188118812 | Training Time: 2.126648426055908\n",
      "==== GradientBoostingClassifier ====\n",
      "\tScore: 0.891989198919892 | Training Time: 756.9651784896851\n",
      "==== XGBClassifier ====\n",
      "\tScore: 0.9108910891089109 | Training Time: 54.70272707939148\n",
      "==== MLPClassifier ====\n",
      "\tScore: 0.9045904590459046 | Training Time: 20.590431928634644\n",
      "==== KNeighborsClassifier ====\n",
      "\tScore: 0.8433843384338434 | Training Time: 0.6464846134185791\n",
      "==== AdaBoostClassifier ====\n",
      "\tScore: 0.44284428442844287 | Training Time: 19.45504355430603\n",
      "==== RandomForestClassifier ====\n",
      "\tScore: 0.828082808280828 | Training Time: 7.751791477203369\n",
      "==== GaussianNB ====\n",
      "\tScore: 0.3132313231323132 | Training Time: 0.030256986618041992\n",
      "==== DecisionTreeClassifier ====\n",
      "\tScore: 0.6291629162916291 | Training Time: 1.6912693977355957\n",
      "==== LinearDiscriminantAnalysis ====\n",
      "\tScore: 0.8856885688568857 | Training Time: 0.4012737274169922\n",
      "==== QuadraticDiscriminantAnalysis ====\n"
     ]
    },
    {
     "name": "stderr",
     "output_type": "stream",
     "text": [
      "/home/namnv/miniconda3/envs/uts/lib/python3.7/site-packages/sklearn/discriminant_analysis.py:878: UserWarning: Variables are collinear\n",
      "  warnings.warn(\"Variables are collinear\")\n"
     ]
    },
    {
     "name": "stdout",
     "output_type": "stream",
     "text": [
      "\tScore: 0.7335733573357336 | Training Time: 0.30402278900146484\n",
      "************** uji | kernal_pca_cosine_150 ************** \n",
      "==== SGDClassifier ====\n",
      "\tScore: 0.9081908190819082 | Training Time: 0.32958531379699707\n",
      "==== SVC ====\n",
      "\tScore: 0.9270927092709271 | Training Time: 27.586108207702637\n",
      "==== LogisticRegression ====\n"
     ]
    },
    {
     "name": "stderr",
     "output_type": "stream",
     "text": [
      "/home/namnv/miniconda3/envs/uts/lib/python3.7/site-packages/sklearn/linear_model/_logistic.py:818: ConvergenceWarning: lbfgs failed to converge (status=1):\n",
      "STOP: TOTAL NO. of ITERATIONS REACHED LIMIT.\n",
      "\n",
      "Increase the number of iterations (max_iter) or scale the data as shown in:\n",
      "    https://scikit-learn.org/stable/modules/preprocessing.html\n",
      "Please also refer to the documentation for alternative solver options:\n",
      "    https://scikit-learn.org/stable/modules/linear_model.html#logistic-regression\n",
      "  extra_warning_msg=_LOGISTIC_SOLVER_CONVERGENCE_MSG,\n"
     ]
    },
    {
     "name": "stdout",
     "output_type": "stream",
     "text": [
      "\tScore: 0.9018901890189019 | Training Time: 1.8589119911193848\n",
      "==== GradientBoostingClassifier ====\n",
      "\tScore: 0.8928892889288929 | Training Time: 563.836767911911\n",
      "==== XGBClassifier ====\n",
      "\tScore: 0.9108910891089109 | Training Time: 41.09211015701294\n",
      "==== MLPClassifier ====\n",
      "\tScore: 0.9243924392439244 | Training Time: 21.252323389053345\n",
      "==== KNeighborsClassifier ====\n",
      "\tScore: 0.8685868586858686 | Training Time: 0.628680944442749\n",
      "==== AdaBoostClassifier ====\n",
      "\tScore: 0.44284428442844287 | Training Time: 14.591270446777344\n",
      "==== RandomForestClassifier ====\n",
      "\tScore: 0.8163816381638164 | Training Time: 6.678113698959351\n",
      "==== GaussianNB ====\n",
      "\tScore: 0.38073807380738073 | Training Time: 0.023992538452148438\n",
      "==== DecisionTreeClassifier ====\n",
      "\tScore: 0.6291629162916291 | Training Time: 1.272043228149414\n",
      "==== LinearDiscriminantAnalysis ====\n",
      "\tScore: 0.9018901890189019 | Training Time: 0.34147047996520996\n",
      "==== QuadraticDiscriminantAnalysis ====\n"
     ]
    },
    {
     "name": "stderr",
     "output_type": "stream",
     "text": [
      "/home/namnv/miniconda3/envs/uts/lib/python3.7/site-packages/sklearn/discriminant_analysis.py:878: UserWarning: Variables are collinear\n",
      "  warnings.warn(\"Variables are collinear\")\n"
     ]
    },
    {
     "name": "stdout",
     "output_type": "stream",
     "text": [
      "\tScore: 0.7884788478847885 | Training Time: 0.2094898223876953\n",
      "************** uji | other ************** \n",
      "==== SGDClassifier ====\n",
      "\tScore: 0.8820882088208821 | Training Time: 0.8172156810760498\n",
      "==== SVC ====\n",
      "\tScore: 0.9063906390639064 | Training Time: 29.637694597244263\n",
      "==== LogisticRegression ====\n"
     ]
    },
    {
     "name": "stderr",
     "output_type": "stream",
     "text": [
      "/home/namnv/miniconda3/envs/uts/lib/python3.7/site-packages/sklearn/linear_model/_logistic.py:818: ConvergenceWarning: lbfgs failed to converge (status=1):\n",
      "STOP: TOTAL NO. of ITERATIONS REACHED LIMIT.\n",
      "\n",
      "Increase the number of iterations (max_iter) or scale the data as shown in:\n",
      "    https://scikit-learn.org/stable/modules/preprocessing.html\n",
      "Please also refer to the documentation for alternative solver options:\n",
      "    https://scikit-learn.org/stable/modules/linear_model.html#logistic-regression\n",
      "  extra_warning_msg=_LOGISTIC_SOLVER_CONVERGENCE_MSG,\n"
     ]
    },
    {
     "name": "stdout",
     "output_type": "stream",
     "text": [
      "\tScore: 0.8955895589558955 | Training Time: 4.1704559326171875\n",
      "==== GradientBoostingClassifier ====\n",
      "\tScore: 0.7992799279927992 | Training Time: 2637.427601337433\n",
      "==== XGBClassifier ====\n",
      "\tScore: 0.9045904590459046 | Training Time: 97.68249106407166\n",
      "==== MLPClassifier ====\n",
      "\tScore: 0.8955895589558955 | Training Time: 26.249703407287598\n",
      "==== KNeighborsClassifier ====\n",
      "\tScore: 0.8379837983798379 | Training Time: 0.667902946472168\n",
      "==== AdaBoostClassifier ====\n",
      "\tScore: 0.31053105310531054 | Training Time: 25.768108129501343\n",
      "==== RandomForestClassifier ====\n",
      "\tScore: 0.8028802880288028 | Training Time: 8.839247703552246\n",
      "==== GaussianNB ====\n",
      "\tScore: 0.5382538253825383 | Training Time: 0.04204750061035156\n",
      "==== DecisionTreeClassifier ====\n",
      "\tScore: 0.7641764176417641 | Training Time: 2.2390716075897217\n",
      "==== LinearDiscriminantAnalysis ====\n",
      "\tScore: 0.8685868586858686 | Training Time: 0.5931007862091064\n",
      "==== QuadraticDiscriminantAnalysis ====\n"
     ]
    },
    {
     "name": "stderr",
     "output_type": "stream",
     "text": [
      "/home/namnv/miniconda3/envs/uts/lib/python3.7/site-packages/sklearn/discriminant_analysis.py:878: UserWarning: Variables are collinear\n",
      "  warnings.warn(\"Variables are collinear\")\n"
     ]
    },
    {
     "name": "stdout",
     "output_type": "stream",
     "text": [
      "\tScore: 0.48604860486048607 | Training Time: 0.7426795959472656\n",
      "************** uji | pca_080 ************** \n",
      "==== SGDClassifier ====\n",
      "\tScore: 0.8460846084608461 | Training Time: 7.061721086502075\n",
      "==== SVC ====\n",
      "\tScore: 0.8505850585058505 | Training Time: 24.11681342124939\n",
      "==== LogisticRegression ====\n"
     ]
    },
    {
     "name": "stderr",
     "output_type": "stream",
     "text": [
      "/home/namnv/miniconda3/envs/uts/lib/python3.7/site-packages/sklearn/linear_model/_logistic.py:818: ConvergenceWarning: lbfgs failed to converge (status=1):\n",
      "STOP: TOTAL NO. of ITERATIONS REACHED LIMIT.\n",
      "\n",
      "Increase the number of iterations (max_iter) or scale the data as shown in:\n",
      "    https://scikit-learn.org/stable/modules/preprocessing.html\n",
      "Please also refer to the documentation for alternative solver options:\n",
      "    https://scikit-learn.org/stable/modules/linear_model.html#logistic-regression\n",
      "  extra_warning_msg=_LOGISTIC_SOLVER_CONVERGENCE_MSG,\n"
     ]
    },
    {
     "name": "stdout",
     "output_type": "stream",
     "text": [
      "\tScore: 0.8883888388838884 | Training Time: 3.1328606605529785\n",
      "==== GradientBoostingClassifier ====\n",
      "\tScore: 0.7407740774077408 | Training Time: 1452.2566809654236\n",
      "==== XGBClassifier ====\n",
      "\tScore: 0.8775877587758776 | Training Time: 54.00170135498047\n",
      "==== MLPClassifier ====\n",
      "\tScore: 0.8955895589558955 | Training Time: 23.73613691329956\n",
      "==== KNeighborsClassifier ====\n",
      "\tScore: 0.8370837083708371 | Training Time: 0.6239826679229736\n",
      "==== AdaBoostClassifier ====\n",
      "\tScore: 0.39243924392439244 | Training Time: 14.604796409606934\n",
      "==== RandomForestClassifier ====\n",
      "\tScore: 0.7956795679567957 | Training Time: 6.457583665847778\n",
      "==== GaussianNB ====\n",
      "\tScore: 0.44554455445544555 | Training Time: 0.023912668228149414\n",
      "==== DecisionTreeClassifier ====\n",
      "\tScore: 0.720972097209721 | Training Time: 1.235905647277832\n",
      "==== LinearDiscriminantAnalysis ====\n",
      "\tScore: 0.8685868586858686 | Training Time: 0.31986117362976074\n",
      "==== QuadraticDiscriminantAnalysis ====\n"
     ]
    },
    {
     "name": "stderr",
     "output_type": "stream",
     "text": [
      "/home/namnv/miniconda3/envs/uts/lib/python3.7/site-packages/sklearn/discriminant_analysis.py:878: UserWarning: Variables are collinear\n",
      "  warnings.warn(\"Variables are collinear\")\n"
     ]
    },
    {
     "name": "stdout",
     "output_type": "stream",
     "text": [
      "\tScore: 0.5697569756975698 | Training Time: 0.48235249519348145\n",
      "************** uji | no_pca ************** \n",
      "==== SGDClassifier ====\n",
      "\tScore: 0.8793879387938794 | Training Time: 9.63318157196045\n",
      "==== SVC ====\n",
      "\tScore: 0.8487848784878488 | Training Time: 78.89150786399841\n",
      "==== LogisticRegression ====\n"
     ]
    },
    {
     "name": "stderr",
     "output_type": "stream",
     "text": [
      "/home/namnv/miniconda3/envs/uts/lib/python3.7/site-packages/sklearn/linear_model/_logistic.py:818: ConvergenceWarning: lbfgs failed to converge (status=1):\n",
      "STOP: TOTAL NO. of ITERATIONS REACHED LIMIT.\n",
      "\n",
      "Increase the number of iterations (max_iter) or scale the data as shown in:\n",
      "    https://scikit-learn.org/stable/modules/preprocessing.html\n",
      "Please also refer to the documentation for alternative solver options:\n",
      "    https://scikit-learn.org/stable/modules/linear_model.html#logistic-regression\n",
      "  extra_warning_msg=_LOGISTIC_SOLVER_CONVERGENCE_MSG,\n"
     ]
    },
    {
     "name": "stdout",
     "output_type": "stream",
     "text": [
      "\tScore: 0.9000900090009001 | Training Time: 5.627262830734253\n",
      "==== GradientBoostingClassifier ====\n",
      "\tScore: 0.7722772277227723 | Training Time: 482.6021771430969\n",
      "==== XGBClassifier ====\n",
      "\tScore: 0.8910891089108911 | Training Time: 73.59737730026245\n",
      "==== MLPClassifier ====\n",
      "\tScore: 0.8802880288028803 | Training Time: 24.80248785018921\n",
      "==== KNeighborsClassifier ====\n",
      "\tScore: 0.8163816381638164 | Training Time: 0.8089935779571533\n",
      "==== AdaBoostClassifier ====\n",
      "\tScore: 0.21872187218721872 | Training Time: 5.533621549606323\n",
      "==== RandomForestClassifier ====\n",
      "\tScore: 0.6984698469846985 | Training Time: 1.2290706634521484\n",
      "==== GaussianNB ====\n",
      "\tScore: 0.4158415841584158 | Training Time: 0.07802414894104004\n",
      "==== DecisionTreeClassifier ====\n",
      "\tScore: 0.31233123312331235 | Training Time: 0.316819429397583\n",
      "==== LinearDiscriminantAnalysis ====\n",
      "\tScore: 0.8883888388838884 | Training Time: 1.2388043403625488\n",
      "==== QuadraticDiscriminantAnalysis ====\n"
     ]
    },
    {
     "name": "stderr",
     "output_type": "stream",
     "text": [
      "/home/namnv/miniconda3/envs/uts/lib/python3.7/site-packages/sklearn/discriminant_analysis.py:878: UserWarning: Variables are collinear\n",
      "  warnings.warn(\"Variables are collinear\")\n"
     ]
    },
    {
     "name": "stdout",
     "output_type": "stream",
     "text": [
      "\tScore: 0.43924392439243926 | Training Time: 1.8678362369537354\n",
      "************** uji | kernal_pca_cosine_250 ************** \n",
      "==== SGDClassifier ====\n",
      "\tScore: 0.8847884788478848 | Training Time: 0.45585060119628906\n",
      "==== SVC ====\n",
      "\tScore: 0.9135913591359136 | Training Time: 46.41007614135742\n",
      "==== LogisticRegression ====\n"
     ]
    },
    {
     "name": "stderr",
     "output_type": "stream",
     "text": [
      "/home/namnv/miniconda3/envs/uts/lib/python3.7/site-packages/sklearn/linear_model/_logistic.py:818: ConvergenceWarning: lbfgs failed to converge (status=1):\n",
      "STOP: TOTAL NO. of ITERATIONS REACHED LIMIT.\n",
      "\n",
      "Increase the number of iterations (max_iter) or scale the data as shown in:\n",
      "    https://scikit-learn.org/stable/modules/preprocessing.html\n",
      "Please also refer to the documentation for alternative solver options:\n",
      "    https://scikit-learn.org/stable/modules/linear_model.html#logistic-regression\n",
      "  extra_warning_msg=_LOGISTIC_SOLVER_CONVERGENCE_MSG,\n"
     ]
    },
    {
     "name": "stdout",
     "output_type": "stream",
     "text": [
      "\tScore: 0.8802880288028803 | Training Time: 2.469353199005127\n",
      "==== GradientBoostingClassifier ====\n",
      "\tScore: 0.8595859585958596 | Training Time: 1005.1239264011383\n",
      "==== XGBClassifier ====\n",
      "\tScore: 0.9117911791179117 | Training Time: 67.78340697288513\n",
      "==== MLPClassifier ====\n",
      "\tScore: 0.8910891089108911 | Training Time: 24.764889240264893\n",
      "==== KNeighborsClassifier ====\n",
      "\tScore: 0.8388838883888389 | Training Time: 0.6827349662780762\n",
      "==== AdaBoostClassifier ====\n",
      "\tScore: 0.44284428442844287 | Training Time: 24.48606014251709\n",
      "==== RandomForestClassifier ====\n",
      "\tScore: 0.8181818181818182 | Training Time: 8.375800371170044\n",
      "==== GaussianNB ====\n",
      "\tScore: 0.29972997299729975 | Training Time: 0.03699779510498047\n",
      "==== DecisionTreeClassifier ====\n",
      "\tScore: 0.6291629162916291 | Training Time: 2.1863481998443604\n",
      "==== LinearDiscriminantAnalysis ====\n",
      "\tScore: 0.8694869486948695 | Training Time: 0.5911939144134521\n",
      "==== QuadraticDiscriminantAnalysis ====\n"
     ]
    },
    {
     "name": "stderr",
     "output_type": "stream",
     "text": [
      "/home/namnv/miniconda3/envs/uts/lib/python3.7/site-packages/sklearn/discriminant_analysis.py:878: UserWarning: Variables are collinear\n",
      "  warnings.warn(\"Variables are collinear\")\n"
     ]
    },
    {
     "name": "stdout",
     "output_type": "stream",
     "text": [
      "\tScore: 0.7074707470747075 | Training Time: 0.5554730892181396\n",
      "************** uji | pca_075 ************** \n",
      "==== SGDClassifier ====\n",
      "\tScore: 0.8415841584158416 | Training Time: 6.394492149353027\n",
      "==== SVC ====\n",
      "\tScore: 0.8496849684968497 | Training Time: 17.517346620559692\n",
      "==== LogisticRegression ====\n"
     ]
    },
    {
     "name": "stderr",
     "output_type": "stream",
     "text": [
      "/home/namnv/miniconda3/envs/uts/lib/python3.7/site-packages/sklearn/linear_model/_logistic.py:818: ConvergenceWarning: lbfgs failed to converge (status=1):\n",
      "STOP: TOTAL NO. of ITERATIONS REACHED LIMIT.\n",
      "\n",
      "Increase the number of iterations (max_iter) or scale the data as shown in:\n",
      "    https://scikit-learn.org/stable/modules/preprocessing.html\n",
      "Please also refer to the documentation for alternative solver options:\n",
      "    https://scikit-learn.org/stable/modules/linear_model.html#logistic-regression\n",
      "  extra_warning_msg=_LOGISTIC_SOLVER_CONVERGENCE_MSG,\n"
     ]
    },
    {
     "name": "stdout",
     "output_type": "stream",
     "text": [
      "\tScore: 0.8901890189018902 | Training Time: 3.4927263259887695\n",
      "==== GradientBoostingClassifier ====\n",
      "\tScore: 0.7695769576957696 | Training Time: 1182.962198972702\n",
      "==== XGBClassifier ====\n",
      "\tScore: 0.873987398739874 | Training Time: 46.89967942237854\n",
      "==== MLPClassifier ====\n",
      "\tScore: 0.8838883888388839 | Training Time: 28.118123531341553\n",
      "==== KNeighborsClassifier ====\n",
      "\tScore: 0.8370837083708371 | Training Time: 0.620549201965332\n",
      "==== AdaBoostClassifier ====\n",
      "\tScore: 0.39243924392439244 | Training Time: 12.1449716091156\n",
      "==== RandomForestClassifier ====\n",
      "\tScore: 0.8037803780378038 | Training Time: 5.853861093521118\n",
      "==== GaussianNB ====\n",
      "\tScore: 0.49684968496849685 | Training Time: 0.020151138305664062\n",
      "==== DecisionTreeClassifier ====\n",
      "\tScore: 0.7137713771377138 | Training Time: 1.057647943496704\n",
      "==== LinearDiscriminantAnalysis ====\n",
      "\tScore: 0.864986498649865 | Training Time: 0.27199459075927734\n",
      "==== QuadraticDiscriminantAnalysis ====\n",
      "\tScore: 0.639063906390639 | Training Time: 0.17441558837890625\n",
      "\n",
      "************** uts | pca_085 ************** \n"
     ]
    },
    {
     "name": "stderr",
     "output_type": "stream",
     "text": [
      "/home/namnv/miniconda3/envs/uts/lib/python3.7/site-packages/sklearn/discriminant_analysis.py:878: UserWarning: Variables are collinear\n",
      "  warnings.warn(\"Variables are collinear\")\n"
     ]
    },
    {
     "name": "stdout",
     "output_type": "stream",
     "text": [
      "==== SGDClassifier ====\n",
      "\tScore: 0.9484536082474226 | Training Time: 0.5610861778259277\n",
      "==== SVC ====\n",
      "\tScore: 0.9536082474226805 | Training Time: 3.0857906341552734\n",
      "==== LogisticRegression ====\n"
     ]
    },
    {
     "name": "stderr",
     "output_type": "stream",
     "text": [
      "/home/namnv/miniconda3/envs/uts/lib/python3.7/site-packages/sklearn/linear_model/_logistic.py:818: ConvergenceWarning: lbfgs failed to converge (status=1):\n",
      "STOP: TOTAL NO. of ITERATIONS REACHED LIMIT.\n",
      "\n",
      "Increase the number of iterations (max_iter) or scale the data as shown in:\n",
      "    https://scikit-learn.org/stable/modules/preprocessing.html\n",
      "Please also refer to the documentation for alternative solver options:\n",
      "    https://scikit-learn.org/stable/modules/linear_model.html#logistic-regression\n",
      "  extra_warning_msg=_LOGISTIC_SOLVER_CONVERGENCE_MSG,\n"
     ]
    },
    {
     "name": "stdout",
     "output_type": "stream",
     "text": [
      "\tScore: 0.9536082474226805 | Training Time: 1.3543074131011963\n",
      "==== GradientBoostingClassifier ====\n",
      "\tScore: 0.8762886597938144 | Training Time: 38.35987162590027\n",
      "==== XGBClassifier ====\n",
      "\tScore: 0.8994845360824743 | Training Time: 5.64068078994751\n",
      "==== MLPClassifier ====\n",
      "\tScore: 0.961340206185567 | Training Time: 5.829441785812378\n",
      "==== KNeighborsClassifier ====\n",
      "\tScore: 0.9304123711340206 | Training Time: 0.13766193389892578\n",
      "==== AdaBoostClassifier ====\n",
      "\tScore: 0.20618556701030927 | Training Time: 1.983705759048462\n",
      "==== RandomForestClassifier ====\n",
      "\tScore: 0.845360824742268 | Training Time: 1.2733991146087646\n",
      "==== GaussianNB ====\n",
      "\tScore: 0.8505154639175257 | Training Time: 0.009632110595703125\n",
      "==== DecisionTreeClassifier ====\n",
      "\tScore: 0.8170103092783505 | Training Time: 0.12775325775146484\n",
      "==== LinearDiscriminantAnalysis ====\n",
      "\tScore: 0.9149484536082474 | Training Time: 0.0618436336517334\n",
      "==== QuadraticDiscriminantAnalysis ====\n",
      "\tScore: 0.6778350515463918 | Training Time: 0.0874626636505127\n",
      "************** uts | kernal_pca_cosine_100 ************** \n",
      "==== SGDClassifier ====\n"
     ]
    },
    {
     "name": "stderr",
     "output_type": "stream",
     "text": [
      "/home/namnv/miniconda3/envs/uts/lib/python3.7/site-packages/sklearn/discriminant_analysis.py:878: UserWarning: Variables are collinear\n",
      "  warnings.warn(\"Variables are collinear\")\n"
     ]
    },
    {
     "name": "stdout",
     "output_type": "stream",
     "text": [
      "\tScore: 0.9381443298969072 | Training Time: 0.24215269088745117\n",
      "==== SVC ====\n",
      "\tScore: 0.961340206185567 | Training Time: 2.4942753314971924\n",
      "==== LogisticRegression ====\n",
      "\tScore: 0.9510309278350515 | Training Time: 0.8862419128417969\n",
      "==== GradientBoostingClassifier ====\n",
      "\tScore: 0.884020618556701 | Training Time: 48.55681586265564\n",
      "==== XGBClassifier ====\n",
      "\tScore: 0.9355670103092784 | Training Time: 6.6546595096588135\n",
      "==== MLPClassifier ====\n",
      "\tScore: 0.9510309278350515 | Training Time: 6.763115167617798\n",
      "==== KNeighborsClassifier ====\n",
      "\tScore: 0.9510309278350515 | Training Time: 0.1114356517791748\n",
      "==== AdaBoostClassifier ====\n",
      "\tScore: 0.211340206185567 | Training Time: 2.4225351810455322\n",
      "==== RandomForestClassifier ====\n",
      "\tScore: 0.8943298969072165 | Training Time: 1.512373447418213\n",
      "==== GaussianNB ====\n",
      "\tScore: 0.9072164948453608 | Training Time: 0.008860349655151367\n",
      "==== DecisionTreeClassifier ====\n",
      "\tScore: 0.7216494845360825 | Training Time: 0.1612238883972168\n",
      "==== LinearDiscriminantAnalysis ====\n",
      "\tScore: 0.9484536082474226 | Training Time: 0.08401155471801758\n",
      "==== QuadraticDiscriminantAnalysis ====\n",
      "\tScore: 0.5979381443298969 | Training Time: 0.10459613800048828\n",
      "************** uts | pca_090 ************** \n",
      "==== SGDClassifier ====\n"
     ]
    },
    {
     "name": "stderr",
     "output_type": "stream",
     "text": [
      "/home/namnv/miniconda3/envs/uts/lib/python3.7/site-packages/sklearn/discriminant_analysis.py:878: UserWarning: Variables are collinear\n",
      "  warnings.warn(\"Variables are collinear\")\n"
     ]
    },
    {
     "name": "stdout",
     "output_type": "stream",
     "text": [
      "\tScore: 0.9381443298969072 | Training Time: 0.637763261795044\n",
      "==== SVC ====\n",
      "\tScore: 0.9484536082474226 | Training Time: 3.4445440769195557\n",
      "==== LogisticRegression ====\n"
     ]
    },
    {
     "name": "stderr",
     "output_type": "stream",
     "text": [
      "/home/namnv/miniconda3/envs/uts/lib/python3.7/site-packages/sklearn/linear_model/_logistic.py:818: ConvergenceWarning: lbfgs failed to converge (status=1):\n",
      "STOP: TOTAL NO. of ITERATIONS REACHED LIMIT.\n",
      "\n",
      "Increase the number of iterations (max_iter) or scale the data as shown in:\n",
      "    https://scikit-learn.org/stable/modules/preprocessing.html\n",
      "Please also refer to the documentation for alternative solver options:\n",
      "    https://scikit-learn.org/stable/modules/linear_model.html#logistic-regression\n",
      "  extra_warning_msg=_LOGISTIC_SOLVER_CONVERGENCE_MSG,\n"
     ]
    },
    {
     "name": "stdout",
     "output_type": "stream",
     "text": [
      "\tScore: 0.9536082474226805 | Training Time: 1.5685615539550781\n",
      "==== GradientBoostingClassifier ====\n",
      "\tScore: 0.845360824742268 | Training Time: 43.76607799530029\n",
      "==== XGBClassifier ====\n",
      "\tScore: 0.8969072164948454 | Training Time: 8.493736267089844\n",
      "==== MLPClassifier ====\n",
      "\tScore: 0.9510309278350515 | Training Time: 4.8885252475738525\n",
      "==== KNeighborsClassifier ====\n",
      "\tScore: 0.9381443298969072 | Training Time: 0.13646650314331055\n",
      "==== AdaBoostClassifier ====\n",
      "\tScore: 0.20876288659793815 | Training Time: 2.887819290161133\n",
      "==== RandomForestClassifier ====\n",
      "\tScore: 0.8144329896907216 | Training Time: 1.6406097412109375\n",
      "==== GaussianNB ====\n",
      "\tScore: 0.8402061855670103 | Training Time: 0.010819196701049805\n",
      "==== DecisionTreeClassifier ====\n",
      "\tScore: 0.8015463917525774 | Training Time: 0.1968684196472168\n",
      "==== LinearDiscriminantAnalysis ====\n",
      "\tScore: 0.9381443298969072 | Training Time: 0.09694933891296387\n",
      "==== QuadraticDiscriminantAnalysis ====\n"
     ]
    },
    {
     "name": "stderr",
     "output_type": "stream",
     "text": [
      "/home/namnv/miniconda3/envs/uts/lib/python3.7/site-packages/sklearn/discriminant_analysis.py:878: UserWarning: Variables are collinear\n",
      "  warnings.warn(\"Variables are collinear\")\n"
     ]
    },
    {
     "name": "stdout",
     "output_type": "stream",
     "text": [
      "\tScore: 0.4175257731958763 | Training Time: 0.15150141716003418\n",
      "************** uts | pca_095 ************** \n",
      "==== SGDClassifier ====\n",
      "\tScore: 0.9252577319587629 | Training Time: 1.0355901718139648\n",
      "==== SVC ====\n",
      "\tScore: 0.9278350515463918 | Training Time: 5.122948408126831\n",
      "==== LogisticRegression ====\n"
     ]
    },
    {
     "name": "stderr",
     "output_type": "stream",
     "text": [
      "/home/namnv/miniconda3/envs/uts/lib/python3.7/site-packages/sklearn/linear_model/_logistic.py:818: ConvergenceWarning: lbfgs failed to converge (status=1):\n",
      "STOP: TOTAL NO. of ITERATIONS REACHED LIMIT.\n",
      "\n",
      "Increase the number of iterations (max_iter) or scale the data as shown in:\n",
      "    https://scikit-learn.org/stable/modules/preprocessing.html\n",
      "Please also refer to the documentation for alternative solver options:\n",
      "    https://scikit-learn.org/stable/modules/linear_model.html#logistic-regression\n",
      "  extra_warning_msg=_LOGISTIC_SOLVER_CONVERGENCE_MSG,\n"
     ]
    },
    {
     "name": "stdout",
     "output_type": "stream",
     "text": [
      "\tScore: 0.9561855670103093 | Training Time: 2.125354290008545\n",
      "==== GradientBoostingClassifier ====\n",
      "\tScore: 0.6907216494845361 | Training Time: 535.6012997627258\n",
      "==== XGBClassifier ====\n",
      "\tScore: 0.9020618556701031 | Training Time: 13.854480028152466\n",
      "==== MLPClassifier ====\n",
      "\tScore: 0.9407216494845361 | Training Time: 4.698300838470459\n",
      "==== KNeighborsClassifier ====\n",
      "\tScore: 0.9149484536082474 | Training Time: 0.137800931930542\n",
      "==== AdaBoostClassifier ====\n",
      "\tScore: 0.20618556701030927 | Training Time: 4.802225828170776\n",
      "==== RandomForestClassifier ====\n",
      "\tScore: 0.8118556701030928 | Training Time: 2.0776607990264893\n",
      "==== GaussianNB ====\n",
      "\tScore: 0.8273195876288659 | Training Time: 0.015120267868041992\n",
      "==== DecisionTreeClassifier ====\n",
      "\tScore: 0.7783505154639175 | Training Time: 0.33466506004333496\n",
      "==== LinearDiscriminantAnalysis ====\n",
      "\tScore: 0.9381443298969072 | Training Time: 0.18349909782409668\n",
      "==== QuadraticDiscriminantAnalysis ====\n"
     ]
    },
    {
     "name": "stderr",
     "output_type": "stream",
     "text": [
      "/home/namnv/miniconda3/envs/uts/lib/python3.7/site-packages/sklearn/discriminant_analysis.py:878: UserWarning: Variables are collinear\n",
      "  warnings.warn(\"Variables are collinear\")\n"
     ]
    },
    {
     "name": "stdout",
     "output_type": "stream",
     "text": [
      "\tScore: 0.49742268041237114 | Training Time: 0.4340207576751709\n",
      "************** uts | kernal_pca_cosine_200 ************** \n",
      "==== SGDClassifier ====\n",
      "\tScore: 0.9510309278350515 | Training Time: 0.3638620376586914\n",
      "==== SVC ====\n",
      "\tScore: 0.9639175257731959 | Training Time: 4.997562408447266\n",
      "==== LogisticRegression ====\n",
      "\tScore: 0.9484536082474226 | Training Time: 1.1500864028930664\n",
      "==== GradientBoostingClassifier ====\n",
      "\tScore: 0.8685567010309279 | Training Time: 211.5319664478302\n",
      "==== XGBClassifier ====\n",
      "\tScore: 0.9381443298969072 | Training Time: 13.047423124313354\n",
      "==== MLPClassifier ====\n",
      "\tScore: 0.9381443298969072 | Training Time: 6.796224117279053\n",
      "==== KNeighborsClassifier ====\n",
      "\tScore: 0.9484536082474226 | Training Time: 0.12274718284606934\n",
      "==== AdaBoostClassifier ====\n",
      "\tScore: 0.15206185567010308 | Training Time: 4.558103084564209\n",
      "==== RandomForestClassifier ====\n",
      "\tScore: 0.8865979381443299 | Training Time: 2.1042892932891846\n",
      "==== GaussianNB ====\n",
      "\tScore: 0.8994845360824743 | Training Time: 0.014987945556640625\n",
      "==== DecisionTreeClassifier ====\n",
      "\tScore: 0.7216494845360825 | Training Time: 0.33834075927734375\n",
      "==== LinearDiscriminantAnalysis ====\n",
      "\tScore: 0.9407216494845361 | Training Time: 0.1807248592376709\n",
      "==== QuadraticDiscriminantAnalysis ====\n"
     ]
    },
    {
     "name": "stderr",
     "output_type": "stream",
     "text": [
      "/home/namnv/miniconda3/envs/uts/lib/python3.7/site-packages/sklearn/discriminant_analysis.py:878: UserWarning: Variables are collinear\n",
      "  warnings.warn(\"Variables are collinear\")\n"
     ]
    },
    {
     "name": "stdout",
     "output_type": "stream",
     "text": [
      "\tScore: 0.5051546391752577 | Training Time: 0.38858699798583984\n",
      "************** uts | kernal_pca_cosine_150 ************** \n",
      "==== SGDClassifier ====\n",
      "\tScore: 0.9407216494845361 | Training Time: 0.29065394401550293\n",
      "==== SVC ====\n",
      "\tScore: 0.961340206185567 | Training Time: 3.777026653289795\n",
      "==== LogisticRegression ====\n",
      "\tScore: 0.9484536082474226 | Training Time: 0.9712073802947998\n",
      "==== GradientBoostingClassifier ====\n",
      "\tScore: 0.8737113402061856 | Training Time: 141.10640954971313\n",
      "==== XGBClassifier ====\n",
      "\tScore: 0.9381443298969072 | Training Time: 9.86863088607788\n",
      "==== MLPClassifier ====\n",
      "\tScore: 0.9458762886597938 | Training Time: 6.8796844482421875\n",
      "==== KNeighborsClassifier ====\n",
      "\tScore: 0.9510309278350515 | Training Time: 0.10942268371582031\n",
      "==== AdaBoostClassifier ====\n",
      "\tScore: 0.15206185567010308 | Training Time: 3.5035324096679688\n",
      "==== RandomForestClassifier ====\n",
      "\tScore: 0.8994845360824743 | Training Time: 1.783595323562622\n",
      "==== GaussianNB ====\n",
      "\tScore: 0.9020618556701031 | Training Time: 0.012465715408325195\n",
      "==== DecisionTreeClassifier ====\n",
      "\tScore: 0.7216494845360825 | Training Time: 0.2514474391937256\n",
      "==== LinearDiscriminantAnalysis ====\n",
      "\tScore: 0.9432989690721649 | Training Time: 0.12864899635314941\n",
      "==== QuadraticDiscriminantAnalysis ====\n"
     ]
    },
    {
     "name": "stderr",
     "output_type": "stream",
     "text": [
      "/home/namnv/miniconda3/envs/uts/lib/python3.7/site-packages/sklearn/discriminant_analysis.py:878: UserWarning: Variables are collinear\n",
      "  warnings.warn(\"Variables are collinear\")\n"
     ]
    },
    {
     "name": "stdout",
     "output_type": "stream",
     "text": [
      "\tScore: 0.3324742268041237 | Training Time: 0.1695699691772461\n",
      "************** uts | other ************** \n",
      "==== SGDClassifier ====\n",
      "\tScore: 0.9432989690721649 | Training Time: 0.23322176933288574\n",
      "==== SVC ====\n",
      "\tScore: 0.961340206185567 | Training Time: 2.5234711170196533\n",
      "==== LogisticRegression ====\n",
      "\tScore: 0.9510309278350515 | Training Time: 0.877371072769165\n",
      "==== GradientBoostingClassifier ====\n",
      "\tScore: 0.8943298969072165 | Training Time: 48.946829080581665\n",
      "==== XGBClassifier ====\n",
      "\tScore: 0.9355670103092784 | Training Time: 6.780090093612671\n",
      "==== MLPClassifier ====\n",
      "\tScore: 0.9510309278350515 | Training Time: 6.726437091827393\n",
      "==== KNeighborsClassifier ====\n",
      "\tScore: 0.9510309278350515 | Training Time: 0.10692954063415527\n",
      "==== AdaBoostClassifier ====\n",
      "\tScore: 0.211340206185567 | Training Time: 2.4303011894226074\n",
      "==== RandomForestClassifier ====\n",
      "\tScore: 0.865979381443299 | Training Time: 1.5049281120300293\n",
      "==== GaussianNB ====\n",
      "\tScore: 0.9072164948453608 | Training Time: 0.009131431579589844\n",
      "==== DecisionTreeClassifier ====\n",
      "\tScore: 0.7216494845360825 | Training Time: 0.16288971900939941\n",
      "==== LinearDiscriminantAnalysis ====\n",
      "\tScore: 0.9484536082474226 | Training Time: 0.08723807334899902\n",
      "==== QuadraticDiscriminantAnalysis ====\n",
      "\tScore: 0.5979381443298969 | Training Time: 0.09773111343383789\n",
      "************** uts | kernal_pca_cosine_250 ************** \n"
     ]
    },
    {
     "name": "stderr",
     "output_type": "stream",
     "text": [
      "/home/namnv/miniconda3/envs/uts/lib/python3.7/site-packages/sklearn/discriminant_analysis.py:878: UserWarning: Variables are collinear\n",
      "  warnings.warn(\"Variables are collinear\")\n"
     ]
    },
    {
     "name": "stdout",
     "output_type": "stream",
     "text": [
      "==== SGDClassifier ====\n",
      "\tScore: 0.9304123711340206 | Training Time: 0.4709148406982422\n",
      "==== SVC ====\n",
      "\tScore: 0.9561855670103093 | Training Time: 5.868264198303223\n",
      "==== LogisticRegression ====\n",
      "\tScore: 0.9484536082474226 | Training Time: 1.3709120750427246\n",
      "==== GradientBoostingClassifier ====\n",
      "\tScore: 0.8427835051546392 | Training Time: 107.13230800628662\n",
      "==== XGBClassifier ====\n",
      "\tScore: 0.9355670103092784 | Training Time: 16.23442769050598\n",
      "==== MLPClassifier ====\n",
      "\tScore: 0.9355670103092784 | Training Time: 7.3519065380096436\n",
      "==== KNeighborsClassifier ====\n",
      "\tScore: 0.9432989690721649 | Training Time: 0.12951111793518066\n",
      "==== AdaBoostClassifier ====\n",
      "\tScore: 0.14948453608247422 | Training Time: 5.674045085906982\n",
      "==== RandomForestClassifier ====\n",
      "\tScore: 0.8865979381443299 | Training Time: 2.239290952682495\n",
      "==== GaussianNB ====\n",
      "\tScore: 0.8917525773195877 | Training Time: 0.017986297607421875\n",
      "==== DecisionTreeClassifier ====\n",
      "\tScore: 0.7216494845360825 | Training Time: 0.4236786365509033\n",
      "==== LinearDiscriminantAnalysis ====\n",
      "\tScore: 0.9407216494845361 | Training Time: 0.2517240047454834\n",
      "==== QuadraticDiscriminantAnalysis ====\n"
     ]
    },
    {
     "name": "stderr",
     "output_type": "stream",
     "text": [
      "/home/namnv/miniconda3/envs/uts/lib/python3.7/site-packages/sklearn/discriminant_analysis.py:878: UserWarning: Variables are collinear\n",
      "  warnings.warn(\"Variables are collinear\")\n"
     ]
    },
    {
     "name": "stdout",
     "output_type": "stream",
     "text": [
      "\tScore: 0.6030927835051546 | Training Time: 0.4622666835784912\n",
      "\n"
     ]
    }
   ],
   "source": [
    "import os\n",
    "import src.utils.cls_utils as clf\n",
    "from src.utils.helper import get_result_floor_classifier\n",
    "\n",
    "data_type = [\"tampere\", \"uji\", \"uts\"]\n",
    "\n",
    "for data_prefix in data_type:\n",
    "    for sub_folder in os.listdir(f\"../../data/{data_prefix}_data/pca/\"):\n",
    "        # if sub_folder == \"no_pca\":\n",
    "        #     continue\n",
    "        print(f\"************** {data_prefix} | {sub_folder} ************** \")\n",
    "        data_dir = f\"../../data/{data_prefix}_data/pca/{sub_folder}/\"\n",
    "\n",
    "        (X_train, Y_train), (X_test, Y_test), (X_valid, Y_valid) = load_data_npz(\n",
    "            [\n",
    "                os.path.join(data_dir, \"X_train.npz\"),\n",
    "                os.path.join(data_dir, \"Y_train.npz\"),\n",
    "                os.path.join(data_dir, \"X_test.npz\"),\n",
    "                os.path.join(data_dir, \"Y_test.npz\"),\n",
    "                os.path.join(data_dir, \"X_valid.npz\"),\n",
    "                os.path.join(data_dir, \"Y_valid.npz\")\n",
    "            ]\n",
    "        )\n",
    "        X_train = np.vstack([X_train, X_valid])\n",
    "        Y_train = np.vstack([Y_train, Y_valid])\n",
    "\n",
    "        Y_train = Y_train[:, 2]\n",
    "        Y_test = Y_test[:, 2]\n",
    "\n",
    "        get_result_floor_classifier(\n",
    "            clf.models_trial,\n",
    "            X_train, Y_train,\n",
    "            X_test, Y_test,\n",
    "            data_prefix,\n",
    "            f\"../../results/floor_classification/{data_prefix}/{sub_folder}.csv\"\n",
    "        )\n",
    "\n",
    "    print(\"\")"
   ]
  },
  {
   "cell_type": "code",
   "execution_count": 7,
   "metadata": {},
   "outputs": [
    {
     "name": "stdout",
     "output_type": "stream",
     "text": [
      "==== MLPClassifier ====\n"
     ]
    },
    {
     "name": "stderr",
     "output_type": "stream",
     "text": [
      "/home/namnv/miniconda3/envs/uts/lib/python3.7/site-packages/sklearn/neural_network/_multilayer_perceptron.py:696: ConvergenceWarning: Stochastic Optimizer: Maximum iterations (200) reached and the optimization hasn't converged yet.\n",
      "  ConvergenceWarning,\n"
     ]
    },
    {
     "name": "stdout",
     "output_type": "stream",
     "text": [
      "\tScore: 0.9364717792963807\n",
      "==== LogisticRegression ====\n",
      "\tScore: 0.9349531764110351\n",
      "==== SVC ====\n",
      "\tScore: 0.9326752720830169\n",
      "==== XGBClassifier ====\n",
      "\tScore: 0.9253353581371805\n",
      "==== GaussianNB ====\n",
      "\tScore: 0.7679068590230321\n",
      "==== SGDClassifier ====\n",
      "\tScore: 0.9458364970893445\n",
      "==== KNeighborsClassifier ====\n",
      "\tScore: 0.8795241710959251\n",
      "==== DecisionTreeClassifier ====\n",
      "\tScore: 0.7914452037458871\n",
      "==== RandomForestClassifier ====\n",
      "\tScore: 0.9182485446722348\n",
      "==== QuadraticDiscriminantAnalysis ====\n",
      "\tScore: 0.5299924069855733\n",
      "==== VotingClassifier ====\n"
     ]
    },
    {
     "name": "stderr",
     "output_type": "stream",
     "text": [
      "/home/namnv/miniconda3/envs/uts/lib/python3.7/site-packages/sklearn/discriminant_analysis.py:878: UserWarning: Variables are collinear\n",
      "  warnings.warn(\"Variables are collinear\")\n",
      "/home/namnv/miniconda3/envs/uts/lib/python3.7/site-packages/sklearn/neural_network/_multilayer_perceptron.py:696: ConvergenceWarning: Stochastic Optimizer: Maximum iterations (200) reached and the optimization hasn't converged yet.\n",
      "  ConvergenceWarning,\n"
     ]
    },
    {
     "name": "stdout",
     "output_type": "stream",
     "text": [
      "\tScore: 0.9420399898759808\n"
     ]
    }
   ],
   "source": [
    "get_result_floor_classifier(model_list, X_train, Y_train, X_test, Y_test,\n",
    "                            data_type=data_type_str[idx_data_type],\n",
    "                            result_path=all_path[\"result_path\"])"
   ]
  },
  {
   "cell_type": "markdown",
   "metadata": {},
   "source": [
    "### Train floor Classifier"
   ]
  },
  {
   "cell_type": "code",
   "execution_count": 8,
   "metadata": {},
   "outputs": [],
   "source": [
    "# X_train_ = X_train[Z_train == 0]\n",
    "# Y_train_ = Y_train[Z_train == 0]\n",
    "#\n",
    "# X_valid_ = X_valid[Z_valid == 0]\n",
    "# Y_valid_ = Y_valid[Z_valid == 0]"
   ]
  },
  {
   "cell_type": "code",
   "execution_count": 9,
   "metadata": {},
   "outputs": [],
   "source": [
    "# m = LogisticRegression()\n",
    "# m.fit(X_train_, Y_train_)\n",
    "# m.score(X_valid_, Y_valid_)"
   ]
  },
  {
   "cell_type": "code",
   "execution_count": 10,
   "metadata": {},
   "outputs": [],
   "source": [
    "# import src.utils.cls_utils as clf\n",
    "# en_model = clf.Ensemble_Classic_Model(\n",
    "#     models= [\n",
    "#         SGDClassifier(),\n",
    "#         MLPClassifier(), LogisticRegression(),\n",
    "#         SVC(kernel='rbf', probability=True),\n",
    "#         XGBClassifier(), RandomForestClassifier(),\n",
    "#         KNeighborsClassifier()\n",
    "#     ],\n",
    "#     ensemble_model_path=all_path[\"ensemble_classifier\"]\n",
    "# )\n",
    "# en_model.train_student(X_train, Y_train, Z_train, X_valid, Y_valid, Z_valid)"
   ]
  },
  {
   "cell_type": "code",
   "execution_count": 11,
   "metadata": {},
   "outputs": [],
   "source": [
    "# clf.classic_model_evaluation(\n",
    "#     model_dict_path=[\n",
    "#         os.path.join(all_path[\"ensemble_classifier\"], \"model_0.sav\"),\n",
    "#         os.path.join(all_path[\"ensemble_classifier\"], \"model_1.sav\"),\n",
    "#         # os.path.join(all_path[\"ensemble_classifier\"], \"model_2.sav\"),\n",
    "#     ],\n",
    "#     model_cluster_classifier_path=all_path[\"cluster_classifier\"],\n",
    "#     X_test=X_test,\n",
    "#     Y_test=Y_test\n",
    "# )"
   ]
  },
  {
   "cell_type": "markdown",
   "metadata": {},
   "source": []
  },
  {
   "cell_type": "markdown",
   "metadata": {},
   "source": [
    "### train base 2"
   ]
  },
  {
   "cell_type": "code",
   "execution_count": 12,
   "metadata": {},
   "outputs": [],
   "source": [
    "# clf1 = MLPClassifier()\n",
    "# clf2 = LogisticRegression()\n",
    "# clf3 = SVC(kernel='rbf', probability=True)\n",
    "# clf4 = XGBClassifier()\n",
    "# clf5 = GaussianNB()\n",
    "# clf6 = SGDClassifier()\n",
    "# clf7 = KNeighborsClassifier()\n",
    "# clf8 = DecisionTreeClassifier()\n",
    "# clf9 = RandomForestClassifier()\n",
    "# clf10 = GradientBoostingClassifier()\n",
    "#\n",
    "# eclf = VotingClassifier(\n",
    "#     estimators=[\n",
    "#         ('clf1', clf1), ('clf2', clf2), ('clf3', clf3)\n",
    "#     ],\n",
    "#     voting=\"soft\",\n",
    "#     weights=[3, 1, 2]\n",
    "# )\n",
    "#\n",
    "# model_list = [clf1, clf2, clf3, clf4, clf5, clf6, clf7, clf8, clf9, clf10, eclf]\n",
    "#\n",
    "# print(f\"Train clf1 model: {clf1.__class__.__name__}\")\n",
    "# clf1 = clf1.fit(X_train, Y_train)\n",
    "# print(clf1.score(X_test, Y_test))\n",
    "#\n",
    "# print(f\"Train clf2 model: {clf2.__class__.__name__}\")\n",
    "# clf2 = clf2.fit(X_train, Y_train)\n",
    "# print(clf2.score(X_test, Y_test))\n",
    "#\n",
    "# print(f\"Train clf3 model: {clf3.__class__.__name__}\")\n",
    "# clf3 = clf3.fit(X_train, Y_train)\n",
    "# print(clf3.score(X_test, Y_test))\n",
    "#\n",
    "# print(f\"Train clf3 model: {clf4.__class__.__name__}\")\n",
    "# clf4 = clf4.fit(X_train, Y_train)\n",
    "# print(clf4.score(X_test, Y_test))\n",
    "#\n",
    "# print(f\"Train eclf model: {eclf.__class__.__name__}\")\n",
    "# eclf = eclf.fit(X_train, Y_train)\n",
    "# print(eclf.score(X_test, Y_test))\n",
    "#\n",
    "# save_model_sklearn(all_path[\"floor_classifier\"], eclf)"
   ]
  },
  {
   "cell_type": "code",
   "execution_count": 13,
   "metadata": {},
   "outputs": [],
   "source": [
    "# loaded_model = load_model_sklearn(all_path[\"floor_classifier\"])\n",
    "# result = loaded_model.score(X_test, Y_test)\n",
    "# print(\"\\nFinal\")\n",
    "# print(result)"
   ]
  },
  {
   "cell_type": "code",
   "execution_count": 13,
   "metadata": {},
   "outputs": [],
   "source": []
  },
  {
   "cell_type": "code",
   "execution_count": 13,
   "metadata": {},
   "outputs": [],
   "source": []
  },
  {
   "cell_type": "code",
   "execution_count": 13,
   "metadata": {},
   "outputs": [],
   "source": []
  },
  {
   "cell_type": "code",
   "execution_count": 13,
   "metadata": {},
   "outputs": [],
   "source": []
  },
  {
   "cell_type": "code",
   "execution_count": 13,
   "metadata": {},
   "outputs": [],
   "source": []
  },
  {
   "cell_type": "code",
   "execution_count": 13,
   "metadata": {},
   "outputs": [],
   "source": []
  },
  {
   "cell_type": "code",
   "execution_count": 13,
   "metadata": {},
   "outputs": [],
   "source": []
  },
  {
   "cell_type": "code",
   "execution_count": 13,
   "metadata": {},
   "outputs": [],
   "source": []
  },
  {
   "cell_type": "code",
   "execution_count": 13,
   "metadata": {},
   "outputs": [],
   "source": []
  }
 ],
 "metadata": {
  "kernelspec": {
   "display_name": "Python 3 (ipykernel)",
   "language": "python",
   "name": "python3"
  },
  "language_info": {
   "codemirror_mode": {
    "name": "ipython",
    "version": 3
   },
   "file_extension": ".py",
   "mimetype": "text/x-python",
   "name": "python",
   "nbconvert_exporter": "python",
   "pygments_lexer": "ipython3",
   "version": "3.9.13"
  }
 },
 "nbformat": 4,
 "nbformat_minor": 1
}
