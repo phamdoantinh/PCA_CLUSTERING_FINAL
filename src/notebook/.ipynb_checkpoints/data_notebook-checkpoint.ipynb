{
 "cells": [
  {
   "cell_type": "code",
   "execution_count": 7,
   "metadata": {
    "scrolled": true
   },
   "outputs": [
    {
     "ename": "ImportError",
     "evalue": "attempted relative import with no known parent package",
     "output_type": "error",
     "traceback": [
      "\u001b[1;31m---------------------------------------------------------------------------\u001b[0m",
      "\u001b[1;31mImportError\u001b[0m                               Traceback (most recent call last)",
      "Cell \u001b[1;32mIn[7], line 13\u001b[0m\n\u001b[0;32m     10\u001b[0m \u001b[38;5;28;01mfrom\u001b[39;00m \u001b[38;5;21;01msklearn\u001b[39;00m\u001b[38;5;21;01m.\u001b[39;00m\u001b[38;5;21;01mdecomposition\u001b[39;00m \u001b[38;5;28;01mimport\u001b[39;00m PCA, KernelPCA\n\u001b[0;32m     12\u001b[0m \u001b[38;5;66;03m# custom\u001b[39;00m\n\u001b[1;32m---> 13\u001b[0m \u001b[38;5;28;01mfrom\u001b[39;00m \u001b[38;5;21;01m.\u001b[39;00m\u001b[38;5;21;01m.\u001b[39;00m\u001b[38;5;21;01mutils\u001b[39;00m\u001b[38;5;21;01m.\u001b[39;00m\u001b[38;5;21;01mfile_utils\u001b[39;00m \u001b[38;5;28;01mimport\u001b[39;00m read_data\n\u001b[0;32m     14\u001b[0m \u001b[38;5;28;01mfrom\u001b[39;00m \u001b[38;5;21;01m.\u001b[39;00m\u001b[38;5;21;01m.\u001b[39;00m\u001b[38;5;21;01mutils\u001b[39;00m\u001b[38;5;21;01m.\u001b[39;00m\u001b[38;5;21;01mhelper\u001b[39;00m \u001b[38;5;28;01mimport\u001b[39;00m normalize_data, separates_data_uts, constant_columns, detect_num_feature_rssi, save_data_npz, load_data_npz, separates_data_uji, separates_data_tampere\n",
      "\u001b[1;31mImportError\u001b[0m: attempted relative import with no known parent package"
     ]
    }
   ],
   "source": [
    "import os\n",
    "import random\n",
    "from pathlib import Path\n",
    "import numpy as np\n",
    "import pandas as pd\n",
    "\n",
    "import torch\n",
    "from sklearn.model_selection import train_test_split\n",
    "from sklearn.preprocessing import StandardScaler\n",
    "from sklearn.decomposition import PCA, KernelPCA\n",
    "\n",
    "# custom\n",
    "from ..utils.file_utils import read_data\n",
    "from ..utils.helper import normalize_data, separates_data_uts, constant_columns, detect_num_feature_rssi, save_data_npz, load_data_npz, separates_data_uji, separates_data_tampere"
   ]
  },
  {
   "cell_type": "code",
   "execution_count": 4,
   "metadata": {},
   "outputs": [],
   "source": [
    "# setup random seed\n",
    "def set_seed_everything(seed: int):\n",
    "    random.seed(seed)\n",
    "    os.environ['PYTHONHASHSEED'] = str(seed)\n",
    "    np.random.seed(seed)\n",
    "    torch.manual_seed(seed)\n",
    "    torch.cuda.manual_seed(seed)\n",
    "\n",
    "SEED = 2023\n",
    "set_seed_everything(SEED)"
   ]
  },
  {
   "cell_type": "markdown",
   "metadata": {},
   "source": [
    "## TAMPERE"
   ]
  },
  {
   "cell_type": "markdown",
   "metadata": {},
   "source": [
    "### Data Path Tampere"
   ]
  },
  {
   "cell_type": "code",
   "execution_count": 3,
   "metadata": {},
   "outputs": [],
   "source": [
    "raw_rssi_train_dir = \"../../data/tampere_data/raw/Training_rss.csv\"\n",
    "raw_label_train_dir = \"../../data/tampere_data/raw/Training_coordinates.csv\"\n",
    "\n",
    "raw_rssi_test_dir = \"../../data/tampere_data/raw/Test_rss.csv\"\n",
    "raw_label_test_dir = \"../../data/tampere_data/raw/Test_coordinates.csv\"\n",
    "\n",
    "process_train_dir = \"../../data/tampere_data/processed/TUT_train.csv\"\n",
    "process_test_dir = \"../../data/tampere_data/processed/TUT_test.csv\"\n",
    "\n",
    "data_path_save = f\"../../data/tampere_data/pca/kernal_pca_cosine_75\"\n",
    "# data_path_save = f\"../../data/tampere_data/pca/pca_085\"\n",
    "Path(data_path_save).mkdir(parents=True, exist_ok=True)"
   ]
  },
  {
   "cell_type": "code",
   "execution_count": 4,
   "metadata": {},
   "outputs": [],
   "source": [
    "rssi_train_data = pd.read_csv(raw_rssi_train_dir, header=None)\n",
    "label_train_data = pd.read_csv(raw_label_train_dir, header=None)\n",
    "rssi_test_data = pd.read_csv(raw_rssi_test_dir, header=None)\n",
    "label_test_data = pd.read_csv(raw_label_test_dir, header=None)\n",
    "\n",
    "rssi_header_dict = {idx:\"WAP{:03d}\".format(idx + 1) for idx in rssi_train_data.columns}\n",
    "label_header_dict = {0: 'Pos_x', 1: 'Pos_y', 2:'Floor_ID'}\n",
    "\n",
    "rssi_train_data = rssi_train_data.rename(columns=rssi_header_dict)\n",
    "label_train_data = label_train_data.rename(columns=label_header_dict)\n",
    "rssi_test_data = rssi_test_data.rename(columns=rssi_header_dict)\n",
    "label_test_data = label_test_data.rename(columns=label_header_dict)\n",
    "\n",
    "train_data = pd.concat([rssi_train_data, label_train_data], axis=1)\n",
    "test_data = pd.concat([rssi_test_data, label_test_data], axis=1)\n",
    "\n",
    "replace_floor_id = {0.0: 0, 3.7:1, 7.4:2, 11.1:3, 14.8:4}\n",
    "train_data.replace({\"Floor_ID\": replace_floor_id}, inplace=True)\n",
    "test_data.replace({\"Floor_ID\": replace_floor_id}, inplace=True)"
   ]
  },
  {
   "cell_type": "code",
   "execution_count": 1,
   "metadata": {},
   "outputs": [
    {
     "ename": "NameError",
     "evalue": "name 'detect_num_feature_rssi' is not defined",
     "output_type": "error",
     "traceback": [
      "\u001b[1;31m---------------------------------------------------------------------------\u001b[0m",
      "\u001b[1;31mNameError\u001b[0m                                 Traceback (most recent call last)",
      "\u001b[1;32m~\\AppData\\Local\\Temp\\ipykernel_10692\\3493092933.py\u001b[0m in \u001b[0;36m<module>\u001b[1;34m\u001b[0m\n\u001b[0;32m      1\u001b[0m \u001b[1;31m# constant columns\u001b[0m\u001b[1;33m\u001b[0m\u001b[1;33m\u001b[0m\u001b[0m\n\u001b[1;32m----> 2\u001b[1;33m \u001b[0mNUM_FEATURES_RSSI\u001b[0m \u001b[1;33m=\u001b[0m \u001b[0mdetect_num_feature_rssi\u001b[0m\u001b[1;33m(\u001b[0m\u001b[0mtrain_data\u001b[0m\u001b[1;33m)\u001b[0m\u001b[1;33m\u001b[0m\u001b[1;33m\u001b[0m\u001b[0m\n\u001b[0m\u001b[0;32m      3\u001b[0m \u001b[0mconst_cols\u001b[0m \u001b[1;33m=\u001b[0m \u001b[0mconstant_columns\u001b[0m\u001b[1;33m(\u001b[0m\u001b[0mtrain_data\u001b[0m\u001b[1;33m,\u001b[0m \u001b[0mthreshold\u001b[0m\u001b[1;33m=\u001b[0m\u001b[1;36m2\u001b[0m\u001b[1;33m,\u001b[0m \u001b[0mcolumn_range\u001b[0m\u001b[1;33m=\u001b[0m\u001b[0mNUM_FEATURES_RSSI\u001b[0m\u001b[1;33m)\u001b[0m\u001b[1;33m\u001b[0m\u001b[1;33m\u001b[0m\u001b[0m\n\u001b[0;32m      4\u001b[0m \u001b[1;33m\u001b[0m\u001b[0m\n\u001b[0;32m      5\u001b[0m \u001b[0mprint\u001b[0m\u001b[1;33m(\u001b[0m\u001b[0mconst_cols\u001b[0m\u001b[1;33m)\u001b[0m\u001b[1;33m\u001b[0m\u001b[1;33m\u001b[0m\u001b[0m\n",
      "\u001b[1;31mNameError\u001b[0m: name 'detect_num_feature_rssi' is not defined"
     ]
    }
   ],
   "source": [
    "# constant columns\n",
    "NUM_FEATURES_RSSI = detect_num_feature_rssi(train_data)\n",
    "const_cols = constant_columns(train_data, threshold=2, column_range=NUM_FEATURES_RSSI)\n",
    "\n",
    "print(const_cols)\n",
    "\n",
    "# normalize data\n",
    "train_data = normalize_data(train_data, num_feature=NUM_FEATURES_RSSI, removed_columns=None, constant_columns=const_cols)\n",
    "test_data = normalize_data(test_data, num_feature=NUM_FEATURES_RSSI, removed_columns=None, constant_columns=const_cols)\n",
    "\n",
    "# save data processs\n",
    "# train_data.to_csv(process_train_dir, index=False)\n",
    "# test_data.to_csv(process_test_dir, index=False)"
   ]
  },
  {
   "cell_type": "code",
   "execution_count": 4,
   "metadata": {},
   "outputs": [],
   "source": [
    "train_data = read_data(process_train_dir)\n",
    "test_data = read_data(process_test_dir)"
   ]
  },
  {
   "cell_type": "code",
   "execution_count": 5,
   "metadata": {},
   "outputs": [],
   "source": [
    "# seperate data\n",
    "X_train_, Y_train = separates_data_tampere(train_data)\n",
    "X_test_, Y_test = separates_data_tampere(test_data)\n",
    "\n",
    "scX = StandardScaler()\n",
    "pca = KernelPCA(n_components=75, kernel=\"cosine\")\n",
    "# pca = PCA(n_components=0.85)\n",
    "X_train_ = scX.fit_transform(X_train_)\n",
    "X_test_ = scX.transform(X_test_)\n",
    "X_train = pca.fit_transform(X_train_)\n",
    "X_test = pca.transform(X_test_)\n",
    "\n",
    "# X_train, X_valid, Y_train, Y_valid = train_test_split(X_train, Y_train, test_size=0.04, random_state=SEED)\n",
    "X_train, X_valid, Y_train, Y_valid = train_test_split(X_train, Y_train, test_size=0.1, random_state=SEED)\n",
    "\n",
    "# save data npz\n",
    "save_data_npz([\n",
    "    (os.path.join(data_path_save, \"X_train.npz\"), X_train),\n",
    "    (os.path.join(data_path_save, \"Y_train.npz\"), Y_train),\n",
    "    (os.path.join(data_path_save, \"X_test.npz\"), X_test),\n",
    "    (os.path.join(data_path_save, \"Y_test.npz\"), Y_test),\n",
    "    (os.path.join(data_path_save, \"X_valid.npz\"), X_valid),\n",
    "    (os.path.join(data_path_save, \"Y_valid.npz\"), Y_valid)\n",
    "])"
   ]
  },
  {
   "cell_type": "code",
   "execution_count": 6,
   "metadata": {},
   "outputs": [],
   "source": [
    "(X_train, Y_train), (X_test, Y_test), (X_valid, Y_valid) = load_data_npz(\n",
    "    [\n",
    "        os.path.join(data_path_save, \"X_train.npz\"),\n",
    "        os.path.join(data_path_save, \"Y_train.npz\"),\n",
    "        os.path.join(data_path_save, \"X_test.npz\"),\n",
    "        os.path.join(data_path_save, \"Y_test.npz\"),\n",
    "        os.path.join(data_path_save, \"X_valid.npz\"),\n",
    "        os.path.join(data_path_save, \"Y_valid.npz\")\n",
    "    ]\n",
    ")"
   ]
  },
  {
   "cell_type": "code",
   "execution_count": 7,
   "metadata": {},
   "outputs": [
    {
     "name": "stdout",
     "output_type": "stream",
     "text": [
      "(627, 75)\n",
      "(627, 3)\n",
      "(3951, 75)\n",
      "(3951, 3)\n",
      "(70, 75)\n",
      "(70, 3)\n"
     ]
    }
   ],
   "source": [
    "print(X_train.shape)\n",
    "print(Y_train.shape)\n",
    "\n",
    "print(X_test.shape)\n",
    "print(Y_test.shape)\n",
    "\n",
    "print(X_valid.shape)\n",
    "print(Y_valid.shape)"
   ]
  },
  {
   "cell_type": "code",
   "execution_count": null,
   "metadata": {},
   "outputs": [],
   "source": []
  },
  {
   "cell_type": "markdown",
   "metadata": {},
   "source": [
    "## UTS"
   ]
  },
  {
   "cell_type": "markdown",
   "metadata": {},
   "source": [
    "### Data Path UTS"
   ]
  },
  {
   "cell_type": "code",
   "execution_count": 3,
   "metadata": {},
   "outputs": [],
   "source": [
    "raw_train_dir = \"../../data/uts_data/raw/UTS_training.csv\"\n",
    "raw_test_dir = \"../../data/uts_data/raw/UTS_test.csv\"\n",
    "\n",
    "process_train_dir = \"../../data/uts_data/processed/UTS_train.csv\"\n",
    "process_test_dir = \"../../data/uts_data/processed/UTS_test.csv\"\n",
    "\n",
    "data_path_save = f\"../../data/uts_data/pca/kernal_pca_cosine_250\"\n",
    "# data_path_save = f\"../../data/uts_data/pca/pca_085\"\n",
    "Path(data_path_save).mkdir(parents=True, exist_ok=True)"
   ]
  },
  {
   "cell_type": "markdown",
   "metadata": {},
   "source": [
    "### processing data"
   ]
  },
  {
   "cell_type": "code",
   "execution_count": 4,
   "metadata": {},
   "outputs": [],
   "source": [
    "train_data = read_data(raw_train_dir)\n",
    "test_data = read_data(raw_test_dir)\n",
    "\n",
    "# constant columns\n",
    "NUM_FEATURES_RSSI = detect_num_feature_rssi(train_data)\n",
    "const_cols = constant_columns(train_data, threshold=2, column_range=NUM_FEATURES_RSSI)\n",
    "\n",
    "# normalize data\n",
    "train_data = normalize_data(train_data, num_feature=NUM_FEATURES_RSSI,\n",
    "                               removed_columns=[\"User_ID\", \"Phone_type\", \"Time\"],\n",
    "                               constant_columns=const_cols)\n",
    "test_data = normalize_data(test_data, num_feature=NUM_FEATURES_RSSI,\n",
    "                           removed_columns=[\"User_ID\", \"Phone_type\", \"Time\"],\n",
    "                           constant_columns=const_cols)\n",
    "\n",
    "# save data processs\n",
    "# train_data.to_csv(process_train_dir, index=False)\n",
    "# test_data.to_csv(process_test_dir, index=False)"
   ]
  },
  {
   "cell_type": "code",
   "execution_count": 5,
   "metadata": {},
   "outputs": [],
   "source": [
    "train_data = read_data(process_train_dir)\n",
    "test_data = read_data(process_test_dir)"
   ]
  },
  {
   "cell_type": "code",
   "execution_count": 6,
   "metadata": {},
   "outputs": [],
   "source": [
    "# seperate data\n",
    "X_train_, Y_train = separates_data_uts(train_data)\n",
    "X_test_, Y_test = separates_data_uts(test_data)\n",
    "\n",
    "scX = StandardScaler()\n",
    "pca = KernelPCA(n_components=250, kernel=\"cosine\")\n",
    "# pca = PCA(n_components=0.85)\n",
    "X_train_ = scX.fit_transform(X_train_)\n",
    "X_test_ = scX.transform(X_test_)\n",
    "X_train = pca.fit_transform(X_train_)\n",
    "X_test = pca.transform(X_test_)\n",
    "\n",
    "# X_train, X_valid, Y_train, Y_valid = train_test_split(X_train, Y_train, test_size=0.02, random_state=SEED)\n",
    "# X_train, X_valid, Y_train, Y_valid = train_test_split(X_train, Y_train, test_size=0.04, random_state=SEED)\n",
    "X_train, X_valid, Y_train, Y_valid = train_test_split(X_train, Y_train, test_size=0.06, random_state=SEED)\n",
    "\n",
    "# save data npz\n",
    "save_data_npz([\n",
    "    (os.path.join(data_path_save, \"X_train.npz\"), X_train),\n",
    "    (os.path.join(data_path_save, \"Y_train.npz\"), Y_train),\n",
    "    (os.path.join(data_path_save, \"X_test.npz\"), X_test),\n",
    "    (os.path.join(data_path_save, \"Y_test.npz\"), Y_test),\n",
    "    (os.path.join(data_path_save, \"X_valid.npz\"), X_valid),\n",
    "    (os.path.join(data_path_save, \"Y_valid.npz\"), Y_valid)\n",
    "])"
   ]
  },
  {
   "cell_type": "code",
   "execution_count": 7,
   "metadata": {},
   "outputs": [],
   "source": [
    "(X_train, Y_train), (X_test, Y_test), (X_valid, Y_valid) = load_data_npz(\n",
    "    [\n",
    "        os.path.join(data_path_save, \"X_train.npz\"),\n",
    "        os.path.join(data_path_save, \"Y_train.npz\"),\n",
    "        os.path.join(data_path_save, \"X_test.npz\"),\n",
    "        os.path.join(data_path_save, \"Y_test.npz\"),\n",
    "        os.path.join(data_path_save, \"X_valid.npz\"),\n",
    "        os.path.join(data_path_save, \"Y_valid.npz\")\n",
    "    ]\n",
    ")"
   ]
  },
  {
   "cell_type": "code",
   "execution_count": 8,
   "metadata": {},
   "outputs": [
    {
     "name": "stdout",
     "output_type": "stream",
     "text": [
      "(8561, 250)\n",
      "(8561, 3)\n",
      "(388, 250)\n",
      "(388, 3)\n",
      "(547, 250)\n",
      "(547, 3)\n"
     ]
    }
   ],
   "source": [
    "print(X_train.shape)\n",
    "print(Y_train.shape)\n",
    "\n",
    "print(X_test.shape)\n",
    "print(Y_test.shape)\n",
    "\n",
    "print(X_valid.shape)\n",
    "print(Y_valid.shape)"
   ]
  },
  {
   "cell_type": "markdown",
   "metadata": {},
   "source": [
    "## UJI"
   ]
  },
  {
   "cell_type": "markdown",
   "metadata": {},
   "source": [
    "### Data Path UJI"
   ]
  },
  {
   "cell_type": "code",
   "execution_count": 3,
   "metadata": {},
   "outputs": [],
   "source": [
    "raw_train_dir = \"../../data/uji_data/raw/trainingData.csv\"\n",
    "raw_test_dir = \"../../data/uji_data/raw/validationData.csv\"\n",
    "\n",
    "process_train_dir = \"../../data/uji_data/processed/UJI_train.csv\"\n",
    "process_test_dir = \"../../data/uji_data/processed/UJI_test.csv\"\n",
    "\n",
    "data_path_save = f\"../../data/uji_data/pca/kernal_pca_cosine_100\"\n",
    "Path(data_path_save).mkdir(parents=True, exist_ok=True)"
   ]
  },
  {
   "cell_type": "code",
   "execution_count": 4,
   "metadata": {},
   "outputs": [],
   "source": [
    "train_data = read_data(raw_train_dir)\n",
    "test_data = read_data(raw_test_dir)\n",
    "\n",
    "LONGITUDE_MIN = -7695.9387549299299\n",
    "LATITUDE_MIN = 4864745.7450159714\n",
    "train_data[\"LONGITUDE\"] = train_data[\"LONGITUDE\"] - LONGITUDE_MIN\n",
    "train_data[\"LATITUDE\"] = train_data[\"LATITUDE\"] - LATITUDE_MIN\n",
    "test_data[\"LONGITUDE\"] = test_data[\"LONGITUDE\"] - LONGITUDE_MIN\n",
    "test_data[\"LATITUDE\"] = test_data[\"LATITUDE\"] - LATITUDE_MIN\n",
    "\n",
    "# constant columns\n",
    "NUM_FEATURES_RSSI = detect_num_feature_rssi(train_data)\n",
    "const_cols = constant_columns(train_data, threshold=2, column_range=NUM_FEATURES_RSSI)\n",
    "\n",
    "# normalize data\n",
    "train_data = normalize_data(train_data, num_feature=NUM_FEATURES_RSSI,\n",
    "                               removed_columns=[\"SPACEID\", \"RELATIVEPOSITION\", \"USERID\", \"PHONEID\", \"TIMESTAMP\"],\n",
    "                               constant_columns=const_cols)\n",
    "test_data = normalize_data(test_data, num_feature=NUM_FEATURES_RSSI,\n",
    "                           removed_columns=[\"SPACEID\", \"RELATIVEPOSITION\", \"USERID\", \"PHONEID\", \"TIMESTAMP\"],\n",
    "                           constant_columns=const_cols)\n",
    "\n",
    "# save data processs\n",
    "# train_data.to_csv(process_train_dir, index=False)\n",
    "# test_data.to_csv(process_test_dir, index=False)"
   ]
  },
  {
   "cell_type": "code",
   "execution_count": 5,
   "metadata": {},
   "outputs": [],
   "source": [
    "train_data = read_data(process_train_dir)\n",
    "test_data = read_data(process_test_dir)"
   ]
  },
  {
   "cell_type": "code",
   "execution_count": 6,
   "metadata": {},
   "outputs": [],
   "source": [
    "# seperate data\n",
    "X_train_, Y_train = separates_data_uji(train_data)\n",
    "X_test_, Y_test = separates_data_uji(test_data)\n",
    "\n",
    "scX = StandardScaler()\n",
    "pca = KernelPCA(n_components=100, kernel=\"cosine\")\n",
    "# pca = PCA(n_components=0.75)\n",
    "X_train_ = scX.fit_transform(X_train_)\n",
    "X_test_ = scX.transform(X_test_)\n",
    "X_train = pca.fit_transform(X_train_)\n",
    "X_test = pca.transform(X_test_)\n",
    "\n",
    "# X_train, X_valid, Y_train, Y_valid = train_test_split(X_train, Y_train, test_size=0.04, random_state=SEED)\n",
    "X_train, X_valid, Y_train, Y_valid = train_test_split(X_train, Y_train, test_size=0.11, random_state=SEED)\n",
    "\n",
    "# save data npz\n",
    "save_data_npz([\n",
    "    (os.path.join(data_path_save, \"X_train.npz\"), X_train),\n",
    "    (os.path.join(data_path_save, \"Y_train.npz\"), Y_train),\n",
    "    (os.path.join(data_path_save, \"X_test.npz\"), X_test),\n",
    "    (os.path.join(data_path_save, \"Y_test.npz\"), Y_test),\n",
    "    (os.path.join(data_path_save, \"X_valid.npz\"), X_valid),\n",
    "    (os.path.join(data_path_save, \"Y_valid.npz\"), Y_valid)\n",
    "])"
   ]
  },
  {
   "cell_type": "code",
   "execution_count": 7,
   "metadata": {},
   "outputs": [],
   "source": [
    "(X_train, Y_train), (X_test, Y_test), (X_valid, Y_valid) = load_data_npz(\n",
    "    [\n",
    "        os.path.join(data_path_save, \"X_train.npz\"),\n",
    "        os.path.join(data_path_save, \"Y_train.npz\"),\n",
    "        os.path.join(data_path_save, \"X_test.npz\"),\n",
    "        os.path.join(data_path_save, \"Y_test.npz\"),\n",
    "        os.path.join(data_path_save, \"X_valid.npz\"),\n",
    "        os.path.join(data_path_save, \"Y_valid.npz\")\n",
    "    ]\n",
    ")"
   ]
  },
  {
   "cell_type": "code",
   "execution_count": 8,
   "metadata": {},
   "outputs": [
    {
     "name": "stdout",
     "output_type": "stream",
     "text": [
      "(17743, 100)\n",
      "(17743, 4)\n",
      "(1111, 100)\n",
      "(1111, 4)\n",
      "(2194, 100)\n",
      "(2194, 4)\n"
     ]
    }
   ],
   "source": [
    "print(X_train.shape)\n",
    "print(Y_train.shape)\n",
    "\n",
    "print(X_test.shape)\n",
    "print(Y_test.shape)\n",
    "\n",
    "print(X_valid.shape)\n",
    "print(Y_valid.shape)"
   ]
  },
  {
   "cell_type": "code",
   "execution_count": 8,
   "metadata": {},
   "outputs": [],
   "source": []
  },
  {
   "cell_type": "code",
   "execution_count": 8,
   "metadata": {},
   "outputs": [],
   "source": []
  }
 ],
 "metadata": {
  "kernelspec": {
   "display_name": "Python 3 (ipykernel)",
   "language": "python",
   "name": "python3"
  },
  "language_info": {
   "codemirror_mode": {
    "name": "ipython",
    "version": 3
   },
   "file_extension": ".py",
   "mimetype": "text/x-python",
   "name": "python",
   "nbconvert_exporter": "python",
   "pygments_lexer": "ipython3",
   "version": "3.9.13"
  }
 },
 "nbformat": 4,
 "nbformat_minor": 1
}
